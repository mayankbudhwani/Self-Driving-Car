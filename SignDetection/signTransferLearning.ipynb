{
  "nbformat": 4,
  "nbformat_minor": 0,
  "metadata": {
    "colab": {
      "name": "signTransferLearning.ipynb",
      "provenance": [],
      "collapsed_sections": [],
      "authorship_tag": "ABX9TyOJE5/R3bcDdpSuJEpJnbiq",
      "include_colab_link": true
    },
    "kernelspec": {
      "name": "python3",
      "display_name": "Python 3"
    },
    "accelerator": "GPU"
  },
  "cells": [
    {
      "cell_type": "markdown",
      "metadata": {
        "id": "view-in-github",
        "colab_type": "text"
      },
      "source": [
        "<a href=\"https://colab.research.google.com/github/mayankbudhwani/Self-Driving-Car/blob/master/SignDetection/signTransferLearning.ipynb\" target=\"_parent\"><img src=\"https://colab.research.google.com/assets/colab-badge.svg\" alt=\"Open In Colab\"/></a>"
      ]
    },
    {
      "cell_type": "code",
      "metadata": {
        "id": "hG04UcxM0mx5",
        "colab_type": "code",
        "outputId": "2eb9bea9-91c1-4eb9-c996-f60a291c0cbd",
        "colab": {
          "base_uri": "https://localhost:8080/",
          "height": 122
        }
      },
      "source": [
        "from google.colab import drive\n",
        "drive.mount('/content/drive')"
      ],
      "execution_count": 0,
      "outputs": [
        {
          "output_type": "stream",
          "text": [
            "Go to this URL in a browser: https://accounts.google.com/o/oauth2/auth?client_id=947318989803-6bn6qk8qdgf4n4g3pfee6491hc0brc4i.apps.googleusercontent.com&redirect_uri=urn%3aietf%3awg%3aoauth%3a2.0%3aoob&response_type=code&scope=email%20https%3a%2f%2fwww.googleapis.com%2fauth%2fdocs.test%20https%3a%2f%2fwww.googleapis.com%2fauth%2fdrive%20https%3a%2f%2fwww.googleapis.com%2fauth%2fdrive.photos.readonly%20https%3a%2f%2fwww.googleapis.com%2fauth%2fpeopleapi.readonly\n",
            "\n",
            "Enter your authorization code:\n",
            "··········\n",
            "Mounted at /content/drive\n"
          ],
          "name": "stdout"
        }
      ]
    },
    {
      "cell_type": "code",
      "metadata": {
        "id": "Vf0iqJ0y0wNA",
        "colab_type": "code",
        "outputId": "364b059a-5f1a-4c0e-fe48-7ae0e54f852d",
        "colab": {
          "base_uri": "https://localhost:8080/",
          "height": 921
        }
      },
      "source": [
        "!pip3 install tensorflow-gpu==1.13.1\n",
        "!pip install imageai "
      ],
      "execution_count": 0,
      "outputs": [
        {
          "output_type": "stream",
          "text": [
            "Collecting tensorflow-gpu==1.13.1\n",
            "\u001b[?25l  Downloading https://files.pythonhosted.org/packages/7b/b1/0ad4ae02e17ddd62109cd54c291e311c4b5fd09b4d0678d3d6ce4159b0f0/tensorflow_gpu-1.13.1-cp36-cp36m-manylinux1_x86_64.whl (345.2MB)\n",
            "\u001b[K     |████████████████████████████████| 345.2MB 28kB/s \n",
            "\u001b[?25hRequirement already satisfied: wheel>=0.26 in /usr/local/lib/python3.6/dist-packages (from tensorflow-gpu==1.13.1) (0.33.6)\n",
            "Requirement already satisfied: keras-applications>=1.0.6 in /usr/local/lib/python3.6/dist-packages (from tensorflow-gpu==1.13.1) (1.0.8)\n",
            "Collecting tensorboard<1.14.0,>=1.13.0\n",
            "\u001b[?25l  Downloading https://files.pythonhosted.org/packages/0f/39/bdd75b08a6fba41f098b6cb091b9e8c7a80e1b4d679a581a0ccd17b10373/tensorboard-1.13.1-py3-none-any.whl (3.2MB)\n",
            "\u001b[K     |████████████████████████████████| 3.2MB 29.9MB/s \n",
            "\u001b[?25hRequirement already satisfied: keras-preprocessing>=1.0.5 in /usr/local/lib/python3.6/dist-packages (from tensorflow-gpu==1.13.1) (1.1.0)\n",
            "Requirement already satisfied: gast>=0.2.0 in /usr/local/lib/python3.6/dist-packages (from tensorflow-gpu==1.13.1) (0.2.2)\n",
            "Requirement already satisfied: protobuf>=3.6.1 in /usr/local/lib/python3.6/dist-packages (from tensorflow-gpu==1.13.1) (3.10.0)\n",
            "Collecting tensorflow-estimator<1.14.0rc0,>=1.13.0\n",
            "\u001b[?25l  Downloading https://files.pythonhosted.org/packages/bb/48/13f49fc3fa0fdf916aa1419013bb8f2ad09674c275b4046d5ee669a46873/tensorflow_estimator-1.13.0-py2.py3-none-any.whl (367kB)\n",
            "\u001b[K     |████████████████████████████████| 368kB 72.7MB/s \n",
            "\u001b[?25hRequirement already satisfied: absl-py>=0.1.6 in /usr/local/lib/python3.6/dist-packages (from tensorflow-gpu==1.13.1) (0.9.0)\n",
            "Requirement already satisfied: termcolor>=1.1.0 in /usr/local/lib/python3.6/dist-packages (from tensorflow-gpu==1.13.1) (1.1.0)\n",
            "Requirement already satisfied: astor>=0.6.0 in /usr/local/lib/python3.6/dist-packages (from tensorflow-gpu==1.13.1) (0.8.1)\n",
            "Requirement already satisfied: grpcio>=1.8.6 in /usr/local/lib/python3.6/dist-packages (from tensorflow-gpu==1.13.1) (1.15.0)\n",
            "Requirement already satisfied: six>=1.10.0 in /usr/local/lib/python3.6/dist-packages (from tensorflow-gpu==1.13.1) (1.12.0)\n",
            "Requirement already satisfied: numpy>=1.13.3 in /usr/local/lib/python3.6/dist-packages (from tensorflow-gpu==1.13.1) (1.17.5)\n",
            "Requirement already satisfied: h5py in /usr/local/lib/python3.6/dist-packages (from keras-applications>=1.0.6->tensorflow-gpu==1.13.1) (2.8.0)\n",
            "Requirement already satisfied: markdown>=2.6.8 in /usr/local/lib/python3.6/dist-packages (from tensorboard<1.14.0,>=1.13.0->tensorflow-gpu==1.13.1) (3.1.1)\n",
            "Requirement already satisfied: werkzeug>=0.11.15 in /usr/local/lib/python3.6/dist-packages (from tensorboard<1.14.0,>=1.13.0->tensorflow-gpu==1.13.1) (0.16.0)\n",
            "Requirement already satisfied: setuptools in /usr/local/lib/python3.6/dist-packages (from protobuf>=3.6.1->tensorflow-gpu==1.13.1) (42.0.2)\n",
            "Collecting mock>=2.0.0\n",
            "  Downloading https://files.pythonhosted.org/packages/05/d2/f94e68be6b17f46d2c353564da56e6fb89ef09faeeff3313a046cb810ca9/mock-3.0.5-py2.py3-none-any.whl\n",
            "\u001b[31mERROR: tensorflow 1.15.0 has requirement tensorboard<1.16.0,>=1.15.0, but you'll have tensorboard 1.13.1 which is incompatible.\u001b[0m\n",
            "\u001b[31mERROR: tensorflow 1.15.0 has requirement tensorflow-estimator==1.15.1, but you'll have tensorflow-estimator 1.13.0 which is incompatible.\u001b[0m\n",
            "Installing collected packages: tensorboard, mock, tensorflow-estimator, tensorflow-gpu\n",
            "  Found existing installation: tensorboard 1.15.0\n",
            "    Uninstalling tensorboard-1.15.0:\n",
            "      Successfully uninstalled tensorboard-1.15.0\n",
            "  Found existing installation: tensorflow-estimator 1.15.1\n",
            "    Uninstalling tensorflow-estimator-1.15.1:\n",
            "      Successfully uninstalled tensorflow-estimator-1.15.1\n",
            "Successfully installed mock-3.0.5 tensorboard-1.13.1 tensorflow-estimator-1.13.0 tensorflow-gpu-1.13.1\n",
            "Collecting imageai\n",
            "\u001b[?25l  Downloading https://files.pythonhosted.org/packages/09/99/4023e191a343fb23f01ae02ac57a5ca58037c310e8d8c62f87638a3bafc7/imageai-2.1.5-py3-none-any.whl (180kB)\n",
            "\u001b[K     |████████████████████████████████| 184kB 4.9MB/s \n",
            "\u001b[?25hRequirement already satisfied: h5py in /usr/local/lib/python3.6/dist-packages (from imageai) (2.8.0)\n",
            "Requirement already satisfied: matplotlib in /usr/local/lib/python3.6/dist-packages (from imageai) (3.1.2)\n",
            "Requirement already satisfied: numpy in /usr/local/lib/python3.6/dist-packages (from imageai) (1.17.5)\n",
            "Requirement already satisfied: pillow in /usr/local/lib/python3.6/dist-packages (from imageai) (6.2.2)\n",
            "Requirement already satisfied: scipy in /usr/local/lib/python3.6/dist-packages (from imageai) (1.4.1)\n",
            "Requirement already satisfied: six in /usr/local/lib/python3.6/dist-packages (from h5py->imageai) (1.12.0)\n",
            "Requirement already satisfied: cycler>=0.10 in /usr/local/lib/python3.6/dist-packages (from matplotlib->imageai) (0.10.0)\n",
            "Requirement already satisfied: kiwisolver>=1.0.1 in /usr/local/lib/python3.6/dist-packages (from matplotlib->imageai) (1.1.0)\n",
            "Requirement already satisfied: python-dateutil>=2.1 in /usr/local/lib/python3.6/dist-packages (from matplotlib->imageai) (2.6.1)\n",
            "Requirement already satisfied: pyparsing!=2.0.4,!=2.1.2,!=2.1.6,>=2.0.1 in /usr/local/lib/python3.6/dist-packages (from matplotlib->imageai) (2.4.6)\n",
            "Requirement already satisfied: setuptools in /usr/local/lib/python3.6/dist-packages (from kiwisolver>=1.0.1->matplotlib->imageai) (42.0.2)\n",
            "Installing collected packages: imageai\n",
            "Successfully installed imageai-2.1.5\n"
          ],
          "name": "stdout"
        }
      ]
    },
    {
      "cell_type": "code",
      "metadata": {
        "id": "Q7g49guC0y7y",
        "colab_type": "code",
        "outputId": "23621e5a-a880-4b44-fb65-5b8d06729e84",
        "colab": {
          "base_uri": "https://localhost:8080/",
          "height": 695
        }
      },
      "source": [
        "from imageai.Detection.Custom import DetectionModelTrainer\n",
        "trainer = DetectionModelTrainer()\n",
        "trainer.setModelTypeAsYOLOv3() \n",
        "trainer.setDataDirectory(data_directory='drive/My Drive/Datasets/signals') \n",
        "trainer.setTrainConfig(object_names_array=[\"NO ENTRY\",\"ONE-WAY\",\"PROHIBITED BOTH SIDES\",\"RIGHT SIDE PROHIBITED\",\"LEFT SIDE PROHIBITED\",\"OVERTAKE PROHIBITED\",\"NO PARKING\",\"NO STOPPING\",\"AHEAD ONLY\",\"AHEAD OR RIGHT\",\"AHEAD OR LEFT\",\"SCHOOL AHED\",\"PARKING\",\"HOSPITAL\",\"RESTRICTIONS ENDS\",\"MEN AT WORK\",\"Z crossing\",\"SOUND HORN\",\"KEEP LEFT SIDE\",\"TURN LEFT ONLY\",\"KEEP RIGHT SIDE\",\"TURN RIGHT ONLY\",\"BUMP\",\"VEHICALS PROHIBITED\",\"STOP\",\"GIVE WAY\",\"U-TURN PROHIBITED\"], batch_size=4, num_experiments=2, train_from_pretrained_model=\"drive/My Drive/Datasets/signals/yolo.h5\") \n",
        "trainer.trainModel()"
      ],
      "execution_count": 0,
      "outputs": [
        {
          "output_type": "stream",
          "text": [
            "Using TensorFlow backend.\n",
            "/usr/local/lib/python3.6/dist-packages/tensorflow/python/framework/dtypes.py:526: FutureWarning: Passing (type, 1) or '1type' as a synonym of type is deprecated; in a future version of numpy, it will be understood as (type, (1,)) / '(1,)type'.\n",
            "  _np_qint8 = np.dtype([(\"qint8\", np.int8, 1)])\n",
            "/usr/local/lib/python3.6/dist-packages/tensorflow/python/framework/dtypes.py:527: FutureWarning: Passing (type, 1) or '1type' as a synonym of type is deprecated; in a future version of numpy, it will be understood as (type, (1,)) / '(1,)type'.\n",
            "  _np_quint8 = np.dtype([(\"quint8\", np.uint8, 1)])\n",
            "/usr/local/lib/python3.6/dist-packages/tensorflow/python/framework/dtypes.py:528: FutureWarning: Passing (type, 1) or '1type' as a synonym of type is deprecated; in a future version of numpy, it will be understood as (type, (1,)) / '(1,)type'.\n",
            "  _np_qint16 = np.dtype([(\"qint16\", np.int16, 1)])\n",
            "/usr/local/lib/python3.6/dist-packages/tensorflow/python/framework/dtypes.py:529: FutureWarning: Passing (type, 1) or '1type' as a synonym of type is deprecated; in a future version of numpy, it will be understood as (type, (1,)) / '(1,)type'.\n",
            "  _np_quint16 = np.dtype([(\"quint16\", np.uint16, 1)])\n",
            "/usr/local/lib/python3.6/dist-packages/tensorflow/python/framework/dtypes.py:530: FutureWarning: Passing (type, 1) or '1type' as a synonym of type is deprecated; in a future version of numpy, it will be understood as (type, (1,)) / '(1,)type'.\n",
            "  _np_qint32 = np.dtype([(\"qint32\", np.int32, 1)])\n",
            "/usr/local/lib/python3.6/dist-packages/tensorflow/python/framework/dtypes.py:535: FutureWarning: Passing (type, 1) or '1type' as a synonym of type is deprecated; in a future version of numpy, it will be understood as (type, (1,)) / '(1,)type'.\n",
            "  np_resource = np.dtype([(\"resource\", np.ubyte, 1)])\n"
          ],
          "name": "stderr"
        },
        {
          "output_type": "display_data",
          "data": {
            "text/html": [
              "<p style=\"color: red;\">\n",
              "The default version of TensorFlow in Colab will soon switch to TensorFlow 2.x.<br>\n",
              "We recommend you <a href=\"https://www.tensorflow.org/guide/migrate\" target=\"_blank\">upgrade</a> now \n",
              "or ensure your notebook will continue to use TensorFlow 1.x via the <code>%tensorflow_version 1.x</code> magic:\n",
              "<a href=\"https://colab.research.google.com/notebooks/tensorflow_version.ipynb\" target=\"_blank\">more info</a>.</p>\n"
            ],
            "text/plain": [
              "<IPython.core.display.HTML object>"
            ]
          },
          "metadata": {
            "tags": []
          }
        },
        {
          "output_type": "stream",
          "text": [
            "Generating anchor boxes for training images and annotation...\n",
            "Average IOU for 9 anchors: 0.79\n",
            "Anchor Boxes generated.\n",
            "Detection configuration saved in  drive/My Drive/Datasets/signals/json/detection_config.json\n",
            "Training on: \t['AHEAD ONLY', 'AHEAD OR LEFT', 'AHEAD OR RIGHT', 'BUMP', 'GIVE WAY', 'HOSPITAL', 'KEEP LEFT SIDE', 'KEEP RIGHT SIDE', 'LEFT SIDE PROHIBITED', 'MEN AT WORK', 'NO ENTRY', 'NO PARKING', 'NO STOPPING', 'ONE-WAY', 'OVERTAKE PROHIBITED', 'PARKING', 'PROHIBITED BOTH SIDES', 'RESTRICTIONS ENDS', 'RIGHT SIDE PROHIBITED', 'SCHOOL AHED', 'SOUND HORN', 'STOP', 'TURN LEFT ONLY', 'TURN RIGHT ONLY', 'U-TURN PROHIBITED', 'VEHICALS PROHIBITED', 'Z crossing']\n",
            "Training with Batch Size:  4\n",
            "Number of Experiments:  2\n",
            "WARNING:tensorflow:From /usr/local/lib/python3.6/dist-packages/tensorflow/python/framework/op_def_library.py:263: colocate_with (from tensorflow.python.framework.ops) is deprecated and will be removed in a future version.\n",
            "Instructions for updating:\n",
            "Colocations handled automatically by placer.\n",
            "WARNING:tensorflow:From /usr/local/lib/python3.6/dist-packages/imageai/Detection/Custom/yolo.py:24: to_float (from tensorflow.python.ops.math_ops) is deprecated and will be removed in a future version.\n",
            "Instructions for updating:\n",
            "Use tf.cast instead.\n",
            "Training with transfer learning from pretrained Model\n"
          ],
          "name": "stdout"
        },
        {
          "output_type": "stream",
          "text": [
            "/usr/local/lib/python3.6/dist-packages/keras/callbacks.py:1335: UserWarning: `epsilon` argument is deprecated and will be removed, use `min_delta` instead.\n",
            "  warnings.warn('`epsilon` argument is deprecated and '\n"
          ],
          "name": "stderr"
        },
        {
          "output_type": "stream",
          "text": [
            "WARNING:tensorflow:From /usr/local/lib/python3.6/dist-packages/tensorflow/python/ops/math_ops.py:3066: to_int32 (from tensorflow.python.ops.math_ops) is deprecated and will be removed in a future version.\n",
            "Instructions for updating:\n",
            "Use tf.cast instead.\n",
            "Epoch 1/2\n",
            "472/472 [==============================] - 654s 1s/step - loss: 41.6021 - yolo_layer_1_loss: 6.0930 - yolo_layer_2_loss: 12.8961 - yolo_layer_3_loss: 22.6129 - val_loss: 41.5468 - val_yolo_layer_1_loss: 27.2062 - val_yolo_layer_2_loss: 5.0294 - val_yolo_layer_3_loss: 9.3113\n",
            "Epoch 2/2\n",
            "472/472 [==============================] - 578s 1s/step - loss: 17.3425 - yolo_layer_1_loss: 3.4635 - yolo_layer_2_loss: 5.7112 - yolo_layer_3_loss: 8.1678 - val_loss: 26.4091 - val_yolo_layer_1_loss: 14.0555 - val_yolo_layer_2_loss: 4.2847 - val_yolo_layer_3_loss: 8.0689\n"
          ],
          "name": "stdout"
        }
      ]
    },
    {
      "cell_type": "code",
      "metadata": {
        "id": "1QZda7Gf61yf",
        "colab_type": "code",
        "outputId": "019285b4-0a6c-466a-8569-726c7fc0f60e",
        "colab": {
          "base_uri": "https://localhost:8080/",
          "height": 967
        }
      },
      "source": [
        "from imageai.Detection.Custom import DetectionModelTrainer\n",
        "trainer = DetectionModelTrainer()\n",
        "trainer.setModelTypeAsYOLOv3() \n",
        "trainer.setDataDirectory(data_directory='drive/My Drive/Datasets/signals') \n",
        "trainer.setTrainConfig(object_names_array=[\"NO ENTRY\",\"ONE-WAY\",\"PROHIBITED BOTH SIDES\",\"RIGHT SIDE PROHIBITED\",\"LEFT SIDE PROHIBITED\",\"OVERTAKE PROHIBITED\",\"NO PARKING\",\"NO STOPPING\",\"AHEAD ONLY\",\"AHEAD OR RIGHT\",\"AHEAD OR LEFT\",\"SCHOOL AHED\",\"PARKING\",\"HOSPITAL\",\"RESTRICTIONS ENDS\",\"MEN AT WORK\",\"Z crossing\",\"SOUND HORN\",\"KEEP LEFT SIDE\",\"TURN LEFT ONLY\",\"KEEP RIGHT SIDE\",\"TURN RIGHT ONLY\",\"BUMP\",\"VEHICALS PROHIBITED\",\"STOP\",\"GIVE WAY\",\"U-TURN PROHIBITED\"], batch_size=4, num_experiments=10, train_from_pretrained_model=\"drive/My Drive/Datasets/signals/models/yolo4.h5\") \n",
        "trainer.trainModel()"
      ],
      "execution_count": 0,
      "outputs": [
        {
          "output_type": "stream",
          "text": [
            "Using TensorFlow backend.\n",
            "/usr/local/lib/python3.6/dist-packages/tensorflow/python/framework/dtypes.py:526: FutureWarning: Passing (type, 1) or '1type' as a synonym of type is deprecated; in a future version of numpy, it will be understood as (type, (1,)) / '(1,)type'.\n",
            "  _np_qint8 = np.dtype([(\"qint8\", np.int8, 1)])\n",
            "/usr/local/lib/python3.6/dist-packages/tensorflow/python/framework/dtypes.py:527: FutureWarning: Passing (type, 1) or '1type' as a synonym of type is deprecated; in a future version of numpy, it will be understood as (type, (1,)) / '(1,)type'.\n",
            "  _np_quint8 = np.dtype([(\"quint8\", np.uint8, 1)])\n",
            "/usr/local/lib/python3.6/dist-packages/tensorflow/python/framework/dtypes.py:528: FutureWarning: Passing (type, 1) or '1type' as a synonym of type is deprecated; in a future version of numpy, it will be understood as (type, (1,)) / '(1,)type'.\n",
            "  _np_qint16 = np.dtype([(\"qint16\", np.int16, 1)])\n",
            "/usr/local/lib/python3.6/dist-packages/tensorflow/python/framework/dtypes.py:529: FutureWarning: Passing (type, 1) or '1type' as a synonym of type is deprecated; in a future version of numpy, it will be understood as (type, (1,)) / '(1,)type'.\n",
            "  _np_quint16 = np.dtype([(\"quint16\", np.uint16, 1)])\n",
            "/usr/local/lib/python3.6/dist-packages/tensorflow/python/framework/dtypes.py:530: FutureWarning: Passing (type, 1) or '1type' as a synonym of type is deprecated; in a future version of numpy, it will be understood as (type, (1,)) / '(1,)type'.\n",
            "  _np_qint32 = np.dtype([(\"qint32\", np.int32, 1)])\n",
            "/usr/local/lib/python3.6/dist-packages/tensorflow/python/framework/dtypes.py:535: FutureWarning: Passing (type, 1) or '1type' as a synonym of type is deprecated; in a future version of numpy, it will be understood as (type, (1,)) / '(1,)type'.\n",
            "  np_resource = np.dtype([(\"resource\", np.ubyte, 1)])\n"
          ],
          "name": "stderr"
        },
        {
          "output_type": "display_data",
          "data": {
            "text/html": [
              "<p style=\"color: red;\">\n",
              "The default version of TensorFlow in Colab will soon switch to TensorFlow 2.x.<br>\n",
              "We recommend you <a href=\"https://www.tensorflow.org/guide/migrate\" target=\"_blank\">upgrade</a> now \n",
              "or ensure your notebook will continue to use TensorFlow 1.x via the <code>%tensorflow_version 1.x</code> magic:\n",
              "<a href=\"https://colab.research.google.com/notebooks/tensorflow_version.ipynb\" target=\"_blank\">more info</a>.</p>\n"
            ],
            "text/plain": [
              "<IPython.core.display.HTML object>"
            ]
          },
          "metadata": {
            "tags": []
          }
        },
        {
          "output_type": "stream",
          "text": [
            "Generating anchor boxes for training images and annotation...\n",
            "Average IOU for 9 anchors: 0.78\n",
            "Anchor Boxes generated.\n",
            "Detection configuration saved in  drive/My Drive/Datasets/signals/json/detection_config.json\n",
            "Training on: \t['AHEAD ONLY', 'AHEAD OR LEFT', 'AHEAD OR RIGHT', 'BUMP', 'GIVE WAY', 'HOSPITAL', 'KEEP LEFT SIDE', 'KEEP RIGHT SIDE', 'LEFT SIDE PROHIBITED', 'MEN AT WORK', 'NO ENTRY', 'NO PARKING', 'NO STOPPING', 'ONE-WAY', 'OVERTAKE PROHIBITED', 'PARKING', 'PROHIBITED BOTH SIDES', 'RESTRICTIONS ENDS', 'RIGHT SIDE PROHIBITED', 'SCHOOL AHED', 'SOUND HORN', 'STOP', 'TURN LEFT ONLY', 'TURN RIGHT ONLY', 'U-TURN PROHIBITED', 'VEHICALS PROHIBITED', 'Z crossing']\n",
            "Training with Batch Size:  4\n",
            "Number of Experiments:  10\n",
            "WARNING:tensorflow:From /usr/local/lib/python3.6/dist-packages/tensorflow/python/framework/op_def_library.py:263: colocate_with (from tensorflow.python.framework.ops) is deprecated and will be removed in a future version.\n",
            "Instructions for updating:\n",
            "Colocations handled automatically by placer.\n",
            "WARNING:tensorflow:From /usr/local/lib/python3.6/dist-packages/imageai/Detection/Custom/yolo.py:24: to_float (from tensorflow.python.ops.math_ops) is deprecated and will be removed in a future version.\n",
            "Instructions for updating:\n",
            "Use tf.cast instead.\n",
            "Training with transfer learning from pretrained Model\n"
          ],
          "name": "stdout"
        },
        {
          "output_type": "stream",
          "text": [
            "/usr/local/lib/python3.6/dist-packages/keras/callbacks.py:1335: UserWarning: `epsilon` argument is deprecated and will be removed, use `min_delta` instead.\n",
            "  warnings.warn('`epsilon` argument is deprecated and '\n"
          ],
          "name": "stderr"
        },
        {
          "output_type": "stream",
          "text": [
            "WARNING:tensorflow:From /usr/local/lib/python3.6/dist-packages/tensorflow/python/ops/math_ops.py:3066: to_int32 (from tensorflow.python.ops.math_ops) is deprecated and will be removed in a future version.\n",
            "Instructions for updating:\n",
            "Use tf.cast instead.\n",
            "Epoch 1/10\n",
            "472/472 [==============================] - 376s 797ms/step - loss: 17.0414 - yolo_layer_1_loss: 4.1270 - yolo_layer_2_loss: 5.1407 - yolo_layer_3_loss: 7.7737 - val_loss: 16.9575 - val_yolo_layer_1_loss: 7.4504 - val_yolo_layer_2_loss: 5.4991 - val_yolo_layer_3_loss: 4.0079\n",
            "Epoch 2/10\n",
            "472/472 [==============================] - 347s 736ms/step - loss: 16.5055 - yolo_layer_1_loss: 4.1483 - yolo_layer_2_loss: 5.1037 - yolo_layer_3_loss: 7.2535 - val_loss: 16.5649 - val_yolo_layer_1_loss: 8.1239 - val_yolo_layer_2_loss: 3.9710 - val_yolo_layer_3_loss: 4.4700\n",
            "Epoch 3/10\n",
            "472/472 [==============================] - 343s 727ms/step - loss: 16.0414 - yolo_layer_1_loss: 3.4110 - yolo_layer_2_loss: 4.8879 - yolo_layer_3_loss: 7.7425 - val_loss: 15.9530 - val_yolo_layer_1_loss: 6.7858 - val_yolo_layer_2_loss: 3.8345 - val_yolo_layer_3_loss: 5.3327\n",
            "Epoch 4/10\n",
            "472/472 [==============================] - 344s 728ms/step - loss: 15.9193 - yolo_layer_1_loss: 3.6185 - yolo_layer_2_loss: 5.0390 - yolo_layer_3_loss: 7.2617 - val_loss: 23.1539 - val_yolo_layer_1_loss: 6.4533 - val_yolo_layer_2_loss: 4.3420 - val_yolo_layer_3_loss: 12.3586\n",
            "Epoch 5/10\n",
            "472/472 [==============================] - 343s 726ms/step - loss: 15.5726 - yolo_layer_1_loss: 3.2463 - yolo_layer_2_loss: 5.0564 - yolo_layer_3_loss: 7.2699 - val_loss: 14.4254 - val_yolo_layer_1_loss: 5.4368 - val_yolo_layer_2_loss: 4.0426 - val_yolo_layer_3_loss: 4.9459\n",
            "Epoch 6/10\n",
            "472/472 [==============================] - 341s 721ms/step - loss: 15.2433 - yolo_layer_1_loss: 3.0788 - yolo_layer_2_loss: 5.1651 - yolo_layer_3_loss: 6.9994 - val_loss: 15.1376 - val_yolo_layer_1_loss: 5.5696 - val_yolo_layer_2_loss: 4.2006 - val_yolo_layer_3_loss: 5.3674\n",
            "Epoch 7/10\n",
            "472/472 [==============================] - 343s 727ms/step - loss: 15.0904 - yolo_layer_1_loss: 3.2496 - yolo_layer_2_loss: 5.0923 - yolo_layer_3_loss: 6.7485 - val_loss: 14.1414 - val_yolo_layer_1_loss: 5.2916 - val_yolo_layer_2_loss: 4.8352 - val_yolo_layer_3_loss: 4.0146\n",
            "Epoch 8/10\n",
            "472/472 [==============================] - 343s 727ms/step - loss: 14.7666 - yolo_layer_1_loss: 3.2245 - yolo_layer_2_loss: 4.9385 - yolo_layer_3_loss: 6.6036 - val_loss: 13.7324 - val_yolo_layer_1_loss: 4.7146 - val_yolo_layer_2_loss: 4.8067 - val_yolo_layer_3_loss: 4.2111\n",
            "Epoch 9/10\n",
            "472/472 [==============================] - 343s 726ms/step - loss: 14.5150 - yolo_layer_1_loss: 2.8444 - yolo_layer_2_loss: 5.1475 - yolo_layer_3_loss: 6.5231 - val_loss: 15.0833 - val_yolo_layer_1_loss: 5.9601 - val_yolo_layer_2_loss: 4.3124 - val_yolo_layer_3_loss: 4.8108\n",
            "Epoch 10/10\n",
            "472/472 [==============================] - 343s 727ms/step - loss: 14.2190 - yolo_layer_1_loss: 2.9471 - yolo_layer_2_loss: 4.9957 - yolo_layer_3_loss: 6.2762 - val_loss: 13.8303 - val_yolo_layer_1_loss: 4.7696 - val_yolo_layer_2_loss: 5.0383 - val_yolo_layer_3_loss: 4.0223\n"
          ],
          "name": "stdout"
        }
      ]
    },
    {
      "cell_type": "code",
      "metadata": {
        "id": "WyngNrcWgv5F",
        "colab_type": "code",
        "outputId": "075930c4-b8af-4130-99ab-5cf44081b5d3",
        "colab": {
          "base_uri": "https://localhost:8080/",
          "height": 1000
        }
      },
      "source": [
        "from imageai.Detection.Custom import DetectionModelTrainer\n",
        "trainer = DetectionModelTrainer()\n",
        "trainer.setModelTypeAsYOLOv3() \n",
        "trainer.setDataDirectory(data_directory='drive/My Drive/Datasets/signals') \n",
        "trainer.setTrainConfig(object_names_array=[\"NO ENTRY\",\"ONE-WAY\",\"PROHIBITED BOTH SIDES\",\"RIGHT SIDE PROHIBITED\",\"LEFT SIDE PROHIBITED\",\"OVERTAKE PROHIBITED\",\"NO PARKING\",\"NO STOPPING\",\"AHEAD ONLY\",\"AHEAD OR RIGHT\",\"AHEAD OR LEFT\",\"SCHOOL AHED\",\"PARKING\",\"HOSPITAL\",\"RESTRICTIONS ENDS\",\"MEN AT WORK\",\"Z crossing\",\"SOUND HORN\",\"KEEP LEFT SIDE\",\"TURN LEFT ONLY\",\"KEEP RIGHT SIDE\",\"TURN RIGHT ONLY\",\"BUMP\",\"VEHICALS PROHIBITED\",\"STOP\",\"GIVE WAY\",\"U-TURN PROHIBITED\"], batch_size=4, num_experiments=50, train_from_pretrained_model=\"drive/My Drive/Datasets/signals/models/yolo14.h5\") \n",
        "trainer.trainModel()"
      ],
      "execution_count": 0,
      "outputs": [
        {
          "output_type": "stream",
          "text": [
            "Using TensorFlow backend.\n",
            "/usr/local/lib/python3.6/dist-packages/tensorflow/python/framework/dtypes.py:526: FutureWarning: Passing (type, 1) or '1type' as a synonym of type is deprecated; in a future version of numpy, it will be understood as (type, (1,)) / '(1,)type'.\n",
            "  _np_qint8 = np.dtype([(\"qint8\", np.int8, 1)])\n",
            "/usr/local/lib/python3.6/dist-packages/tensorflow/python/framework/dtypes.py:527: FutureWarning: Passing (type, 1) or '1type' as a synonym of type is deprecated; in a future version of numpy, it will be understood as (type, (1,)) / '(1,)type'.\n",
            "  _np_quint8 = np.dtype([(\"quint8\", np.uint8, 1)])\n",
            "/usr/local/lib/python3.6/dist-packages/tensorflow/python/framework/dtypes.py:528: FutureWarning: Passing (type, 1) or '1type' as a synonym of type is deprecated; in a future version of numpy, it will be understood as (type, (1,)) / '(1,)type'.\n",
            "  _np_qint16 = np.dtype([(\"qint16\", np.int16, 1)])\n",
            "/usr/local/lib/python3.6/dist-packages/tensorflow/python/framework/dtypes.py:529: FutureWarning: Passing (type, 1) or '1type' as a synonym of type is deprecated; in a future version of numpy, it will be understood as (type, (1,)) / '(1,)type'.\n",
            "  _np_quint16 = np.dtype([(\"quint16\", np.uint16, 1)])\n",
            "/usr/local/lib/python3.6/dist-packages/tensorflow/python/framework/dtypes.py:530: FutureWarning: Passing (type, 1) or '1type' as a synonym of type is deprecated; in a future version of numpy, it will be understood as (type, (1,)) / '(1,)type'.\n",
            "  _np_qint32 = np.dtype([(\"qint32\", np.int32, 1)])\n",
            "/usr/local/lib/python3.6/dist-packages/tensorflow/python/framework/dtypes.py:535: FutureWarning: Passing (type, 1) or '1type' as a synonym of type is deprecated; in a future version of numpy, it will be understood as (type, (1,)) / '(1,)type'.\n",
            "  np_resource = np.dtype([(\"resource\", np.ubyte, 1)])\n"
          ],
          "name": "stderr"
        },
        {
          "output_type": "display_data",
          "data": {
            "text/html": [
              "<p style=\"color: red;\">\n",
              "The default version of TensorFlow in Colab will soon switch to TensorFlow 2.x.<br>\n",
              "We recommend you <a href=\"https://www.tensorflow.org/guide/migrate\" target=\"_blank\">upgrade</a> now \n",
              "or ensure your notebook will continue to use TensorFlow 1.x via the <code>%tensorflow_version 1.x</code> magic:\n",
              "<a href=\"https://colab.research.google.com/notebooks/tensorflow_version.ipynb\" target=\"_blank\">more info</a>.</p>\n"
            ],
            "text/plain": [
              "<IPython.core.display.HTML object>"
            ]
          },
          "metadata": {
            "tags": []
          }
        },
        {
          "output_type": "stream",
          "text": [
            "Generating anchor boxes for training images and annotation...\n",
            "Average IOU for 9 anchors: 0.79\n",
            "Anchor Boxes generated.\n",
            "Detection configuration saved in  drive/My Drive/Datasets/signals/json/detection_config.json\n",
            "Training on: \t['AHEAD ONLY', 'AHEAD OR LEFT', 'AHEAD OR RIGHT', 'BUMP', 'GIVE WAY', 'HOSPITAL', 'KEEP LEFT SIDE', 'KEEP RIGHT SIDE', 'LEFT SIDE PROHIBITED', 'MEN AT WORK', 'NO ENTRY', 'NO PARKING', 'NO STOPPING', 'ONE-WAY', 'OVERTAKE PROHIBITED', 'PARKING', 'PROHIBITED BOTH SIDES', 'RESTRICTIONS ENDS', 'RIGHT SIDE PROHIBITED', 'SCHOOL AHED', 'SOUND HORN', 'STOP', 'TURN LEFT ONLY', 'TURN RIGHT ONLY', 'U-TURN PROHIBITED', 'VEHICALS PROHIBITED', 'Z crossing']\n",
            "Training with Batch Size:  4\n",
            "Number of Experiments:  50\n",
            "WARNING:tensorflow:From /usr/local/lib/python3.6/dist-packages/tensorflow/python/framework/op_def_library.py:263: colocate_with (from tensorflow.python.framework.ops) is deprecated and will be removed in a future version.\n",
            "Instructions for updating:\n",
            "Colocations handled automatically by placer.\n",
            "WARNING:tensorflow:From /usr/local/lib/python3.6/dist-packages/imageai/Detection/Custom/yolo.py:24: to_float (from tensorflow.python.ops.math_ops) is deprecated and will be removed in a future version.\n",
            "Instructions for updating:\n",
            "Use tf.cast instead.\n",
            "Training with transfer learning from pretrained Model\n"
          ],
          "name": "stdout"
        },
        {
          "output_type": "stream",
          "text": [
            "/usr/local/lib/python3.6/dist-packages/keras/callbacks.py:1335: UserWarning: `epsilon` argument is deprecated and will be removed, use `min_delta` instead.\n",
            "  warnings.warn('`epsilon` argument is deprecated and '\n"
          ],
          "name": "stderr"
        },
        {
          "output_type": "stream",
          "text": [
            "WARNING:tensorflow:From /usr/local/lib/python3.6/dist-packages/tensorflow/python/ops/math_ops.py:3066: to_int32 (from tensorflow.python.ops.math_ops) is deprecated and will be removed in a future version.\n",
            "Instructions for updating:\n",
            "Use tf.cast instead.\n",
            "Epoch 1/50\n",
            "472/472 [==============================] - 472s 1s/step - loss: 13.5502 - yolo_layer_1_loss: 2.5951 - yolo_layer_2_loss: 5.5305 - yolo_layer_3_loss: 5.4246 - val_loss: 11.5904 - val_yolo_layer_1_loss: 4.4583 - val_yolo_layer_2_loss: 5.0495 - val_yolo_layer_3_loss: 2.0826\n",
            "Epoch 2/50\n",
            "472/472 [==============================] - 402s 851ms/step - loss: 12.9675 - yolo_layer_1_loss: 2.9640 - yolo_layer_2_loss: 5.0838 - yolo_layer_3_loss: 4.9197 - val_loss: 12.5149 - val_yolo_layer_1_loss: 4.8009 - val_yolo_layer_2_loss: 5.0471 - val_yolo_layer_3_loss: 2.6669\n",
            "Epoch 3/50\n",
            "472/472 [==============================] - 403s 854ms/step - loss: 12.8609 - yolo_layer_1_loss: 2.9536 - yolo_layer_2_loss: 5.1469 - yolo_layer_3_loss: 4.7605 - val_loss: 12.7068 - val_yolo_layer_1_loss: 5.2570 - val_yolo_layer_2_loss: 4.1422 - val_yolo_layer_3_loss: 3.3076\n",
            "Epoch 4/50\n",
            "472/472 [==============================] - 391s 829ms/step - loss: 12.3425 - yolo_layer_1_loss: 2.5677 - yolo_layer_2_loss: 4.7694 - yolo_layer_3_loss: 5.0053 - val_loss: 11.4095 - val_yolo_layer_1_loss: 4.6497 - val_yolo_layer_2_loss: 4.3396 - val_yolo_layer_3_loss: 2.4203\n",
            "Epoch 5/50\n",
            "472/472 [==============================] - 399s 845ms/step - loss: 12.0964 - yolo_layer_1_loss: 2.7154 - yolo_layer_2_loss: 4.5590 - yolo_layer_3_loss: 4.8220 - val_loss: 12.0473 - val_yolo_layer_1_loss: 5.4183 - val_yolo_layer_2_loss: 4.2967 - val_yolo_layer_3_loss: 2.3324\n",
            "Epoch 6/50\n",
            "472/472 [==============================] - 399s 846ms/step - loss: 11.8179 - yolo_layer_1_loss: 2.7091 - yolo_layer_2_loss: 4.5093 - yolo_layer_3_loss: 4.5995 - val_loss: 11.1167 - val_yolo_layer_1_loss: 3.9750 - val_yolo_layer_2_loss: 4.5325 - val_yolo_layer_3_loss: 2.6092\n",
            "Epoch 7/50\n",
            "472/472 [==============================] - 395s 838ms/step - loss: 11.5547 - yolo_layer_1_loss: 2.5339 - yolo_layer_2_loss: 4.3762 - yolo_layer_3_loss: 4.6446 - val_loss: 11.4305 - val_yolo_layer_1_loss: 4.5805 - val_yolo_layer_2_loss: 4.1080 - val_yolo_layer_3_loss: 2.7420\n",
            "Epoch 8/50\n",
            "472/472 [==============================] - 393s 833ms/step - loss: 11.1265 - yolo_layer_1_loss: 2.4180 - yolo_layer_2_loss: 4.1453 - yolo_layer_3_loss: 4.5632 - val_loss: 10.5358 - val_yolo_layer_1_loss: 3.6488 - val_yolo_layer_2_loss: 4.6297 - val_yolo_layer_3_loss: 2.2574\n",
            "Epoch 9/50\n",
            "472/472 [==============================] - 391s 828ms/step - loss: 11.0894 - yolo_layer_1_loss: 2.3555 - yolo_layer_2_loss: 4.1750 - yolo_layer_3_loss: 4.5589 - val_loss: 10.2374 - val_yolo_layer_1_loss: 3.9327 - val_yolo_layer_2_loss: 4.1511 - val_yolo_layer_3_loss: 2.1535\n",
            "Epoch 10/50\n",
            "472/472 [==============================] - 392s 829ms/step - loss: 10.9564 - yolo_layer_1_loss: 2.2156 - yolo_layer_2_loss: 4.1660 - yolo_layer_3_loss: 4.5747 - val_loss: 9.8467 - val_yolo_layer_1_loss: 4.3193 - val_yolo_layer_2_loss: 4.1033 - val_yolo_layer_3_loss: 1.4241\n",
            "Epoch 11/50\n",
            "472/472 [==============================] - 391s 829ms/step - loss: 10.9914 - yolo_layer_1_loss: 2.2753 - yolo_layer_2_loss: 4.0473 - yolo_layer_3_loss: 4.6689 - val_loss: 9.9915 - val_yolo_layer_1_loss: 3.3620 - val_yolo_layer_2_loss: 3.9787 - val_yolo_layer_3_loss: 2.6508\n",
            "Epoch 12/50\n",
            "472/472 [==============================] - 394s 834ms/step - loss: 10.6516 - yolo_layer_1_loss: 2.3216 - yolo_layer_2_loss: 3.9819 - yolo_layer_3_loss: 4.3480 - val_loss: 9.2589 - val_yolo_layer_1_loss: 3.5249 - val_yolo_layer_2_loss: 3.7295 - val_yolo_layer_3_loss: 2.0045\n",
            "Epoch 13/50\n",
            "472/472 [==============================] - 400s 846ms/step - loss: 10.4005 - yolo_layer_1_loss: 2.4214 - yolo_layer_2_loss: 3.8632 - yolo_layer_3_loss: 4.1159 - val_loss: 10.8667 - val_yolo_layer_1_loss: 4.4123 - val_yolo_layer_2_loss: 4.5937 - val_yolo_layer_3_loss: 1.8607\n",
            "Epoch 14/50\n",
            "472/472 [==============================] - 390s 826ms/step - loss: 10.2324 - yolo_layer_1_loss: 2.1871 - yolo_layer_2_loss: 3.7297 - yolo_layer_3_loss: 4.3156 - val_loss: 10.5413 - val_yolo_layer_1_loss: 3.6294 - val_yolo_layer_2_loss: 4.8052 - val_yolo_layer_3_loss: 2.1067\n",
            "Epoch 15/50\n",
            "472/472 [==============================] - 393s 832ms/step - loss: 10.2758 - yolo_layer_1_loss: 2.2298 - yolo_layer_2_loss: 3.7762 - yolo_layer_3_loss: 4.2697 - val_loss: 9.7381 - val_yolo_layer_1_loss: 3.9398 - val_yolo_layer_2_loss: 3.8803 - val_yolo_layer_3_loss: 1.9180\n",
            "Epoch 16/50\n",
            "472/472 [==============================] - 392s 830ms/step - loss: 10.1359 - yolo_layer_1_loss: 2.1152 - yolo_layer_2_loss: 3.6032 - yolo_layer_3_loss: 4.4175 - val_loss: 10.0550 - val_yolo_layer_1_loss: 4.5513 - val_yolo_layer_2_loss: 3.3698 - val_yolo_layer_3_loss: 2.1338\n",
            "Epoch 17/50\n",
            "472/472 [==============================] - 399s 846ms/step - loss: 9.7664 - yolo_layer_1_loss: 2.2044 - yolo_layer_2_loss: 3.6282 - yolo_layer_3_loss: 3.9338 - val_loss: 9.3807 - val_yolo_layer_1_loss: 4.2723 - val_yolo_layer_2_loss: 3.1000 - val_yolo_layer_3_loss: 2.0083\n",
            "Epoch 18/50\n",
            "472/472 [==============================] - 388s 822ms/step - loss: 9.6375 - yolo_layer_1_loss: 2.0040 - yolo_layer_2_loss: 3.5057 - yolo_layer_3_loss: 4.1278 - val_loss: 9.9381 - val_yolo_layer_1_loss: 4.1024 - val_yolo_layer_2_loss: 3.5987 - val_yolo_layer_3_loss: 2.2370\n",
            "Epoch 19/50\n",
            "472/472 [==============================] - 394s 835ms/step - loss: 9.7815 - yolo_layer_1_loss: 2.1984 - yolo_layer_2_loss: 3.5571 - yolo_layer_3_loss: 4.0260 - val_loss: 8.8355 - val_yolo_layer_1_loss: 3.5096 - val_yolo_layer_2_loss: 3.2755 - val_yolo_layer_3_loss: 2.0504\n",
            "Epoch 20/50\n",
            "472/472 [==============================] - 392s 830ms/step - loss: 9.5884 - yolo_layer_1_loss: 2.0411 - yolo_layer_2_loss: 3.4961 - yolo_layer_3_loss: 4.0512 - val_loss: 9.9483 - val_yolo_layer_1_loss: 4.4513 - val_yolo_layer_2_loss: 3.3823 - val_yolo_layer_3_loss: 2.1148\n",
            "Epoch 21/50\n",
            "472/472 [==============================] - 395s 837ms/step - loss: 9.4876 - yolo_layer_1_loss: 2.0890 - yolo_layer_2_loss: 3.4653 - yolo_layer_3_loss: 3.9333 - val_loss: 9.2892 - val_yolo_layer_1_loss: 4.4668 - val_yolo_layer_2_loss: 3.1850 - val_yolo_layer_3_loss: 1.6374\n",
            "Epoch 22/50\n",
            "472/472 [==============================] - 396s 840ms/step - loss: 9.2638 - yolo_layer_1_loss: 2.0360 - yolo_layer_2_loss: 3.3842 - yolo_layer_3_loss: 3.8437 - val_loss: 9.4198 - val_yolo_layer_1_loss: 3.6678 - val_yolo_layer_2_loss: 3.3398 - val_yolo_layer_3_loss: 2.4122\n",
            "Epoch 23/50\n",
            "472/472 [==============================] - 396s 839ms/step - loss: 9.4756 - yolo_layer_1_loss: 2.0834 - yolo_layer_2_loss: 3.4519 - yolo_layer_3_loss: 3.9403 - val_loss: 9.8923 - val_yolo_layer_1_loss: 4.3664 - val_yolo_layer_2_loss: 3.4244 - val_yolo_layer_3_loss: 2.1015\n",
            "Epoch 24/50\n",
            "472/472 [==============================] - 404s 855ms/step - loss: 9.0887 - yolo_layer_1_loss: 2.0983 - yolo_layer_2_loss: 3.3637 - yolo_layer_3_loss: 3.6266 - val_loss: 9.9967 - val_yolo_layer_1_loss: 3.6158 - val_yolo_layer_2_loss: 4.3574 - val_yolo_layer_3_loss: 2.0235\n",
            "Epoch 25/50\n",
            "472/472 [==============================] - 395s 838ms/step - loss: 9.3060 - yolo_layer_1_loss: 1.9167 - yolo_layer_2_loss: 3.3436 - yolo_layer_3_loss: 4.0457 - val_loss: 8.6417 - val_yolo_layer_1_loss: 3.8532 - val_yolo_layer_2_loss: 2.9798 - val_yolo_layer_3_loss: 1.8087\n",
            "Epoch 26/50\n",
            "472/472 [==============================] - 411s 871ms/step - loss: 8.7909 - yolo_layer_1_loss: 2.1445 - yolo_layer_2_loss: 3.2169 - yolo_layer_3_loss: 3.4295 - val_loss: 9.1989 - val_yolo_layer_1_loss: 4.0433 - val_yolo_layer_2_loss: 3.1691 - val_yolo_layer_3_loss: 1.9864\n",
            "Epoch 27/50\n",
            "472/472 [==============================] - 410s 869ms/step - loss: 8.7998 - yolo_layer_1_loss: 2.0365 - yolo_layer_2_loss: 3.2035 - yolo_layer_3_loss: 3.5599 - val_loss: 10.6633 - val_yolo_layer_1_loss: 4.0960 - val_yolo_layer_2_loss: 3.7890 - val_yolo_layer_3_loss: 2.7783\n",
            "Epoch 28/50\n",
            "472/472 [==============================] - 403s 854ms/step - loss: 8.7281 - yolo_layer_1_loss: 1.8539 - yolo_layer_2_loss: 3.1013 - yolo_layer_3_loss: 3.7728 - val_loss: 9.2191 - val_yolo_layer_1_loss: 4.5008 - val_yolo_layer_2_loss: 3.0367 - val_yolo_layer_3_loss: 1.6816\n",
            "Epoch 29/50\n",
            "472/472 [==============================] - 411s 871ms/step - loss: 8.6469 - yolo_layer_1_loss: 1.8780 - yolo_layer_2_loss: 3.1096 - yolo_layer_3_loss: 3.6593 - val_loss: 8.4521 - val_yolo_layer_1_loss: 3.5536 - val_yolo_layer_2_loss: 3.4852 - val_yolo_layer_3_loss: 1.4132\n",
            "Epoch 30/50\n",
            "472/472 [==============================] - 413s 874ms/step - loss: 8.6161 - yolo_layer_1_loss: 1.8844 - yolo_layer_2_loss: 3.0305 - yolo_layer_3_loss: 3.7012 - val_loss: 8.8265 - val_yolo_layer_1_loss: 4.0521 - val_yolo_layer_2_loss: 3.2979 - val_yolo_layer_3_loss: 1.4765\n",
            "Epoch 31/50\n",
            "472/472 [==============================] - 417s 884ms/step - loss: 8.4052 - yolo_layer_1_loss: 1.9701 - yolo_layer_2_loss: 3.0508 - yolo_layer_3_loss: 3.3843 - val_loss: 8.7427 - val_yolo_layer_1_loss: 3.8833 - val_yolo_layer_2_loss: 3.2713 - val_yolo_layer_3_loss: 1.5881\n",
            "Epoch 32/50\n",
            "472/472 [==============================] - 415s 880ms/step - loss: 8.4119 - yolo_layer_1_loss: 1.8339 - yolo_layer_2_loss: 2.9913 - yolo_layer_3_loss: 3.5868 - val_loss: 7.4779 - val_yolo_layer_1_loss: 3.2706 - val_yolo_layer_2_loss: 2.5612 - val_yolo_layer_3_loss: 1.6460\n",
            "Epoch 33/50\n",
            "472/472 [==============================] - 413s 876ms/step - loss: 8.3635 - yolo_layer_1_loss: 1.9228 - yolo_layer_2_loss: 2.9738 - yolo_layer_3_loss: 3.4669 - val_loss: 8.9032 - val_yolo_layer_1_loss: 4.0647 - val_yolo_layer_2_loss: 3.1367 - val_yolo_layer_3_loss: 1.7018\n",
            "Epoch 34/50\n",
            "472/472 [==============================] - 410s 868ms/step - loss: 7.9056 - yolo_layer_1_loss: 1.6992 - yolo_layer_2_loss: 2.9050 - yolo_layer_3_loss: 3.3015 - val_loss: 8.9171 - val_yolo_layer_1_loss: 4.0155 - val_yolo_layer_2_loss: 3.2489 - val_yolo_layer_3_loss: 1.6527\n",
            "Epoch 35/50\n",
            "472/472 [==============================] - 406s 860ms/step - loss: 8.1284 - yolo_layer_1_loss: 1.7485 - yolo_layer_2_loss: 2.8336 - yolo_layer_3_loss: 3.5462 - val_loss: 10.0592 - val_yolo_layer_1_loss: 4.2924 - val_yolo_layer_2_loss: 3.5648 - val_yolo_layer_3_loss: 2.2020\n",
            "Epoch 36/50\n",
            "472/472 [==============================] - 411s 871ms/step - loss: 8.1133 - yolo_layer_1_loss: 1.8155 - yolo_layer_2_loss: 2.9293 - yolo_layer_3_loss: 3.3684 - val_loss: 8.5429 - val_yolo_layer_1_loss: 3.5322 - val_yolo_layer_2_loss: 3.0877 - val_yolo_layer_3_loss: 1.9231\n",
            "Epoch 37/50\n",
            "472/472 [==============================] - 423s 897ms/step - loss: 7.5828 - yolo_layer_1_loss: 1.9638 - yolo_layer_2_loss: 2.6822 - yolo_layer_3_loss: 2.9367 - val_loss: 7.3840 - val_yolo_layer_1_loss: 3.6015 - val_yolo_layer_2_loss: 2.6199 - val_yolo_layer_3_loss: 1.1625\n",
            "Epoch 38/50\n",
            "472/472 [==============================] - 406s 861ms/step - loss: 6.9743 - yolo_layer_1_loss: 1.5245 - yolo_layer_2_loss: 2.6071 - yolo_layer_3_loss: 2.8427 - val_loss: 7.2534 - val_yolo_layer_1_loss: 3.1574 - val_yolo_layer_2_loss: 2.6057 - val_yolo_layer_3_loss: 1.4903\n",
            "Epoch 39/50\n",
            "472/472 [==============================] - 414s 877ms/step - loss: 7.0514 - yolo_layer_1_loss: 1.6820 - yolo_layer_2_loss: 2.6089 - yolo_layer_3_loss: 2.7606 - val_loss: 7.4597 - val_yolo_layer_1_loss: 3.4777 - val_yolo_layer_2_loss: 2.6196 - val_yolo_layer_3_loss: 1.3623\n",
            "Epoch 40/50\n",
            "472/472 [==============================] - 410s 868ms/step - loss: 6.7151 - yolo_layer_1_loss: 1.4736 - yolo_layer_2_loss: 2.4308 - yolo_layer_3_loss: 2.8106 - val_loss: 7.3901 - val_yolo_layer_1_loss: 3.0411 - val_yolo_layer_2_loss: 2.9346 - val_yolo_layer_3_loss: 1.4144\n",
            "Epoch 41/50\n",
            "472/472 [==============================] - 409s 867ms/step - loss: 6.7644 - yolo_layer_1_loss: 1.4153 - yolo_layer_2_loss: 2.4269 - yolo_layer_3_loss: 2.9222 - val_loss: 6.4650 - val_yolo_layer_1_loss: 2.9579 - val_yolo_layer_2_loss: 2.4894 - val_yolo_layer_3_loss: 1.0177\n",
            "Epoch 42/50\n",
            "472/472 [==============================] - 411s 871ms/step - loss: 6.6930 - yolo_layer_1_loss: 1.4595 - yolo_layer_2_loss: 2.4233 - yolo_layer_3_loss: 2.8102 - val_loss: 7.9223 - val_yolo_layer_1_loss: 3.3809 - val_yolo_layer_2_loss: 2.9015 - val_yolo_layer_3_loss: 1.6399\n",
            "Epoch 43/50\n",
            "472/472 [==============================] - 412s 872ms/step - loss: 6.5744 - yolo_layer_1_loss: 1.4903 - yolo_layer_2_loss: 2.3074 - yolo_layer_3_loss: 2.7767 - val_loss: 7.0889 - val_yolo_layer_1_loss: 3.3881 - val_yolo_layer_2_loss: 2.5460 - val_yolo_layer_3_loss: 1.1548\n",
            "Epoch 44/50\n",
            "472/472 [==============================] - 394s 834ms/step - loss: 6.7913 - yolo_layer_1_loss: 1.3959 - yolo_layer_2_loss: 2.3398 - yolo_layer_3_loss: 3.0556 - val_loss: 6.7920 - val_yolo_layer_1_loss: 3.1141 - val_yolo_layer_2_loss: 2.2083 - val_yolo_layer_3_loss: 1.4696\n",
            "Epoch 45/50\n",
            "472/472 [==============================] - 397s 841ms/step - loss: 6.5121 - yolo_layer_1_loss: 1.4041 - yolo_layer_2_loss: 2.3664 - yolo_layer_3_loss: 2.7416 - val_loss: 7.4460 - val_yolo_layer_1_loss: 3.0262 - val_yolo_layer_2_loss: 2.8147 - val_yolo_layer_3_loss: 1.6052\n",
            "Epoch 46/50\n",
            "472/472 [==============================] - 393s 833ms/step - loss: 6.6082 - yolo_layer_1_loss: 1.3998 - yolo_layer_2_loss: 2.3829 - yolo_layer_3_loss: 2.8256 - val_loss: 5.8846 - val_yolo_layer_1_loss: 2.8589 - val_yolo_layer_2_loss: 2.2309 - val_yolo_layer_3_loss: 0.7947\n",
            "Epoch 47/50\n",
            "472/472 [==============================] - 396s 839ms/step - loss: 6.5339 - yolo_layer_1_loss: 1.3768 - yolo_layer_2_loss: 2.3489 - yolo_layer_3_loss: 2.8081 - val_loss: 7.6276 - val_yolo_layer_1_loss: 3.5604 - val_yolo_layer_2_loss: 2.7112 - val_yolo_layer_3_loss: 1.3561\n",
            "Epoch 48/50\n",
            "472/472 [==============================] - 396s 840ms/step - loss: 6.2986 - yolo_layer_1_loss: 1.4886 - yolo_layer_2_loss: 2.3254 - yolo_layer_3_loss: 2.4846 - val_loss: 7.5256 - val_yolo_layer_1_loss: 3.0175 - val_yolo_layer_2_loss: 2.7989 - val_yolo_layer_3_loss: 1.7092\n",
            "Epoch 49/50\n",
            "472/472 [==============================] - 401s 849ms/step - loss: 6.5752 - yolo_layer_1_loss: 1.4843 - yolo_layer_2_loss: 2.3264 - yolo_layer_3_loss: 2.7645 - val_loss: 7.4410 - val_yolo_layer_1_loss: 3.4030 - val_yolo_layer_2_loss: 2.7480 - val_yolo_layer_3_loss: 1.2900\n",
            "Epoch 50/50\n",
            "472/472 [==============================] - 401s 849ms/step - loss: 6.3195 - yolo_layer_1_loss: 1.5255 - yolo_layer_2_loss: 2.2790 - yolo_layer_3_loss: 2.5150 - val_loss: 7.5271 - val_yolo_layer_1_loss: 2.9558 - val_yolo_layer_2_loss: 2.8850 - val_yolo_layer_3_loss: 1.6863\n"
          ],
          "name": "stdout"
        }
      ]
    },
    {
      "cell_type": "code",
      "metadata": {
        "id": "PZ3GTRwbzK7E",
        "colab_type": "code",
        "colab": {}
      },
      "source": [
        ""
      ],
      "execution_count": 0,
      "outputs": []
    },
    {
      "cell_type": "code",
      "metadata": {
        "id": "Tdtze5AZy4DV",
        "colab_type": "code",
        "outputId": "fa302d51-02b6-4a16-b690-fabbb9c9bf5f",
        "colab": {
          "base_uri": "https://localhost:8080/",
          "height": 1000
        }
      },
      "source": [
        "from imageai.Detection.Custom import DetectionModelTrainer\n",
        "trainer = DetectionModelTrainer()\n",
        "trainer.setModelTypeAsYOLOv3() \n",
        "trainer.setDataDirectory(data_directory='drive/My Drive/Datasets/signals') \n",
        "trainer.setTrainConfig(object_names_array=[\"NO ENTRY\",\"ONE-WAY\",\"PROHIBITED BOTH SIDES\",\"RIGHT SIDE PROHIBITED\",\"LEFT SIDE PROHIBITED\",\"OVERTAKE PROHIBITED\",\"NO PARKING\",\"NO STOPPING\",\"AHEAD ONLY\",\"AHEAD OR RIGHT\",\"AHEAD OR LEFT\",\"SCHOOL AHED\",\"PARKING\",\"HOSPITAL\",\"RESTRICTIONS ENDS\",\"MEN AT WORK\",\"Z crossing\",\"SOUND HORN\",\"KEEP LEFT SIDE\",\"TURN LEFT ONLY\",\"KEEP RIGHT SIDE\",\"TURN RIGHT ONLY\",\"BUMP\",\"VEHICALS PROHIBITED\",\"STOP\",\"GIVE WAY\",\"U-TURN PROHIBITED\"], batch_size=4, num_experiments=50, train_from_pretrained_model=\"drive/My Drive/Datasets/signals/models/yolo124.h5\") \n",
        "trainer.trainModel()"
      ],
      "execution_count": 0,
      "outputs": [
        {
          "output_type": "stream",
          "text": [
            "Using TensorFlow backend.\n",
            "/usr/local/lib/python3.6/dist-packages/tensorflow/python/framework/dtypes.py:526: FutureWarning: Passing (type, 1) or '1type' as a synonym of type is deprecated; in a future version of numpy, it will be understood as (type, (1,)) / '(1,)type'.\n",
            "  _np_qint8 = np.dtype([(\"qint8\", np.int8, 1)])\n",
            "/usr/local/lib/python3.6/dist-packages/tensorflow/python/framework/dtypes.py:527: FutureWarning: Passing (type, 1) or '1type' as a synonym of type is deprecated; in a future version of numpy, it will be understood as (type, (1,)) / '(1,)type'.\n",
            "  _np_quint8 = np.dtype([(\"quint8\", np.uint8, 1)])\n",
            "/usr/local/lib/python3.6/dist-packages/tensorflow/python/framework/dtypes.py:528: FutureWarning: Passing (type, 1) or '1type' as a synonym of type is deprecated; in a future version of numpy, it will be understood as (type, (1,)) / '(1,)type'.\n",
            "  _np_qint16 = np.dtype([(\"qint16\", np.int16, 1)])\n",
            "/usr/local/lib/python3.6/dist-packages/tensorflow/python/framework/dtypes.py:529: FutureWarning: Passing (type, 1) or '1type' as a synonym of type is deprecated; in a future version of numpy, it will be understood as (type, (1,)) / '(1,)type'.\n",
            "  _np_quint16 = np.dtype([(\"quint16\", np.uint16, 1)])\n",
            "/usr/local/lib/python3.6/dist-packages/tensorflow/python/framework/dtypes.py:530: FutureWarning: Passing (type, 1) or '1type' as a synonym of type is deprecated; in a future version of numpy, it will be understood as (type, (1,)) / '(1,)type'.\n",
            "  _np_qint32 = np.dtype([(\"qint32\", np.int32, 1)])\n",
            "/usr/local/lib/python3.6/dist-packages/tensorflow/python/framework/dtypes.py:535: FutureWarning: Passing (type, 1) or '1type' as a synonym of type is deprecated; in a future version of numpy, it will be understood as (type, (1,)) / '(1,)type'.\n",
            "  np_resource = np.dtype([(\"resource\", np.ubyte, 1)])\n"
          ],
          "name": "stderr"
        },
        {
          "output_type": "display_data",
          "data": {
            "text/html": [
              "<p style=\"color: red;\">\n",
              "The default version of TensorFlow in Colab will soon switch to TensorFlow 2.x.<br>\n",
              "We recommend you <a href=\"https://www.tensorflow.org/guide/migrate\" target=\"_blank\">upgrade</a> now \n",
              "or ensure your notebook will continue to use TensorFlow 1.x via the <code>%tensorflow_version 1.x</code> magic:\n",
              "<a href=\"https://colab.research.google.com/notebooks/tensorflow_version.ipynb\" target=\"_blank\">more info</a>.</p>\n"
            ],
            "text/plain": [
              "<IPython.core.display.HTML object>"
            ]
          },
          "metadata": {
            "tags": []
          }
        },
        {
          "output_type": "stream",
          "text": [
            "Generating anchor boxes for training images and annotation...\n",
            "Average IOU for 9 anchors: 0.79\n",
            "Anchor Boxes generated.\n",
            "Detection configuration saved in  drive/My Drive/Datasets/signals/json/detection_config.json\n",
            "Training on: \t['AHEAD ONLY', 'AHEAD OR LEFT', 'AHEAD OR RIGHT', 'BUMP', 'GIVE WAY', 'HOSPITAL', 'KEEP LEFT SIDE', 'KEEP RIGHT SIDE', 'LEFT SIDE PROHIBITED', 'MEN AT WORK', 'NO ENTRY', 'NO PARKING', 'NO STOPPING', 'ONE-WAY', 'OVERTAKE PROHIBITED', 'PARKING', 'PROHIBITED BOTH SIDES', 'RESTRICTIONS ENDS', 'RIGHT SIDE PROHIBITED', 'SCHOOL AHED', 'SOUND HORN', 'STOP', 'TURN LEFT ONLY', 'TURN RIGHT ONLY', 'U-TURN PROHIBITED', 'VEHICALS PROHIBITED', 'Z crossing']\n",
            "Training with Batch Size:  4\n",
            "Number of Experiments:  50\n",
            "WARNING:tensorflow:From /usr/local/lib/python3.6/dist-packages/tensorflow/python/framework/op_def_library.py:263: colocate_with (from tensorflow.python.framework.ops) is deprecated and will be removed in a future version.\n",
            "Instructions for updating:\n",
            "Colocations handled automatically by placer.\n",
            "WARNING:tensorflow:From /usr/local/lib/python3.6/dist-packages/imageai/Detection/Custom/yolo.py:24: to_float (from tensorflow.python.ops.math_ops) is deprecated and will be removed in a future version.\n",
            "Instructions for updating:\n",
            "Use tf.cast instead.\n",
            "Training with transfer learning from pretrained Model\n"
          ],
          "name": "stdout"
        },
        {
          "output_type": "stream",
          "text": [
            "/usr/local/lib/python3.6/dist-packages/keras/callbacks.py:1335: UserWarning: `epsilon` argument is deprecated and will be removed, use `min_delta` instead.\n",
            "  warnings.warn('`epsilon` argument is deprecated and '\n"
          ],
          "name": "stderr"
        },
        {
          "output_type": "stream",
          "text": [
            "WARNING:tensorflow:From /usr/local/lib/python3.6/dist-packages/tensorflow/python/ops/math_ops.py:3066: to_int32 (from tensorflow.python.ops.math_ops) is deprecated and will be removed in a future version.\n",
            "Instructions for updating:\n",
            "Use tf.cast instead.\n",
            "Epoch 1/50\n",
            "472/472 [==============================] - 463s 980ms/step - loss: 9.2556 - yolo_layer_1_loss: 1.1268 - yolo_layer_2_loss: 4.5148 - yolo_layer_3_loss: 3.6141 - val_loss: 10.4107 - val_yolo_layer_1_loss: 3.1690 - val_yolo_layer_2_loss: 4.1543 - val_yolo_layer_3_loss: 3.0874\n",
            "Epoch 2/50\n",
            "472/472 [==============================] - 413s 876ms/step - loss: 7.3903 - yolo_layer_1_loss: 1.0815 - yolo_layer_2_loss: 2.9004 - yolo_layer_3_loss: 3.4084 - val_loss: 8.8742 - val_yolo_layer_1_loss: 2.7022 - val_yolo_layer_2_loss: 3.4175 - val_yolo_layer_3_loss: 2.7545\n",
            "Epoch 3/50\n",
            "472/472 [==============================] - 424s 897ms/step - loss: 7.1436 - yolo_layer_1_loss: 1.1330 - yolo_layer_2_loss: 2.6228 - yolo_layer_3_loss: 3.3878 - val_loss: 8.6619 - val_yolo_layer_1_loss: 3.2363 - val_yolo_layer_2_loss: 2.7486 - val_yolo_layer_3_loss: 2.6769\n",
            "Epoch 4/50\n",
            "472/472 [==============================] - 420s 890ms/step - loss: 7.0020 - yolo_layer_1_loss: 1.1137 - yolo_layer_2_loss: 2.4798 - yolo_layer_3_loss: 3.4086 - val_loss: 8.4363 - val_yolo_layer_1_loss: 2.8453 - val_yolo_layer_2_loss: 2.4127 - val_yolo_layer_3_loss: 3.1784\n",
            "Epoch 5/50\n",
            "472/472 [==============================] - 407s 863ms/step - loss: 6.9095 - yolo_layer_1_loss: 1.0194 - yolo_layer_2_loss: 2.5406 - yolo_layer_3_loss: 3.3495 - val_loss: 9.8590 - val_yolo_layer_1_loss: 2.7028 - val_yolo_layer_2_loss: 3.1517 - val_yolo_layer_3_loss: 4.0046\n",
            "Epoch 6/50\n",
            "472/472 [==============================] - 400s 848ms/step - loss: 6.7316 - yolo_layer_1_loss: 0.9758 - yolo_layer_2_loss: 2.3296 - yolo_layer_3_loss: 3.4261 - val_loss: 7.7038 - val_yolo_layer_1_loss: 2.4271 - val_yolo_layer_2_loss: 2.5701 - val_yolo_layer_3_loss: 2.7067\n",
            "Epoch 7/50\n",
            "472/472 [==============================] - 401s 850ms/step - loss: 6.6723 - yolo_layer_1_loss: 1.0575 - yolo_layer_2_loss: 2.2733 - yolo_layer_3_loss: 3.3416 - val_loss: 8.7018 - val_yolo_layer_1_loss: 2.4895 - val_yolo_layer_2_loss: 3.0348 - val_yolo_layer_3_loss: 3.1775\n",
            "Epoch 8/50\n",
            "472/472 [==============================] - 412s 873ms/step - loss: 6.8960 - yolo_layer_1_loss: 1.2110 - yolo_layer_2_loss: 2.3792 - yolo_layer_3_loss: 3.3057 - val_loss: 10.2876 - val_yolo_layer_1_loss: 4.1083 - val_yolo_layer_2_loss: 3.4577 - val_yolo_layer_3_loss: 2.7215\n",
            "Epoch 9/50\n",
            "472/472 [==============================] - 402s 852ms/step - loss: 6.5353 - yolo_layer_1_loss: 1.1303 - yolo_layer_2_loss: 2.2498 - yolo_layer_3_loss: 3.1552 - val_loss: 8.5849 - val_yolo_layer_1_loss: 2.5705 - val_yolo_layer_2_loss: 2.8121 - val_yolo_layer_3_loss: 3.2023\n",
            "Epoch 10/50\n",
            "472/472 [==============================] - 398s 842ms/step - loss: 6.5421 - yolo_layer_1_loss: 1.0699 - yolo_layer_2_loss: 2.3474 - yolo_layer_3_loss: 3.1248 - val_loss: 8.8594 - val_yolo_layer_1_loss: 3.3370 - val_yolo_layer_2_loss: 2.8879 - val_yolo_layer_3_loss: 2.6346\n",
            "Epoch 11/50\n",
            "472/472 [==============================] - 401s 850ms/step - loss: 6.4984 - yolo_layer_1_loss: 1.1324 - yolo_layer_2_loss: 2.2555 - yolo_layer_3_loss: 3.1104 - val_loss: 8.6896 - val_yolo_layer_1_loss: 3.3044 - val_yolo_layer_2_loss: 2.4231 - val_yolo_layer_3_loss: 2.9621\n",
            "Epoch 12/50\n",
            "472/472 [==============================] - 396s 840ms/step - loss: 6.5771 - yolo_layer_1_loss: 0.9335 - yolo_layer_2_loss: 2.2913 - yolo_layer_3_loss: 3.3522 - val_loss: 8.0006 - val_yolo_layer_1_loss: 2.7767 - val_yolo_layer_2_loss: 2.4392 - val_yolo_layer_3_loss: 2.7847\n",
            "Epoch 13/50\n",
            "472/472 [==============================] - 396s 839ms/step - loss: 6.3479 - yolo_layer_1_loss: 0.9827 - yolo_layer_2_loss: 2.1593 - yolo_layer_3_loss: 3.2059 - val_loss: 7.5785 - val_yolo_layer_1_loss: 2.5067 - val_yolo_layer_2_loss: 2.7035 - val_yolo_layer_3_loss: 2.3682\n",
            "Epoch 14/50\n",
            "472/472 [==============================] - 398s 844ms/step - loss: 6.3976 - yolo_layer_1_loss: 1.0531 - yolo_layer_2_loss: 2.1143 - yolo_layer_3_loss: 3.2302 - val_loss: 9.1266 - val_yolo_layer_1_loss: 3.3662 - val_yolo_layer_2_loss: 2.9810 - val_yolo_layer_3_loss: 2.7794\n",
            "Epoch 15/50\n",
            "472/472 [==============================] - 413s 874ms/step - loss: 6.4303 - yolo_layer_1_loss: 1.0687 - yolo_layer_2_loss: 2.2172 - yolo_layer_3_loss: 3.1444 - val_loss: 8.3483 - val_yolo_layer_1_loss: 3.2092 - val_yolo_layer_2_loss: 2.5513 - val_yolo_layer_3_loss: 2.5878\n",
            "Epoch 16/50\n",
            "472/472 [==============================] - 403s 854ms/step - loss: 5.7233 - yolo_layer_1_loss: 0.7933 - yolo_layer_2_loss: 1.9452 - yolo_layer_3_loss: 2.9848 - val_loss: 7.8927 - val_yolo_layer_1_loss: 2.7297 - val_yolo_layer_2_loss: 2.6216 - val_yolo_layer_3_loss: 2.5414\n",
            "Epoch 17/50\n",
            "472/472 [==============================] - 403s 853ms/step - loss: 5.6514 - yolo_layer_1_loss: 0.8645 - yolo_layer_2_loss: 1.8664 - yolo_layer_3_loss: 2.9205 - val_loss: 7.7087 - val_yolo_layer_1_loss: 3.4127 - val_yolo_layer_2_loss: 2.3980 - val_yolo_layer_3_loss: 1.8980\n",
            "Epoch 18/50\n",
            "472/472 [==============================] - 417s 884ms/step - loss: 5.1788 - yolo_layer_1_loss: 0.8263 - yolo_layer_2_loss: 1.8250 - yolo_layer_3_loss: 2.5274 - val_loss: 7.4031 - val_yolo_layer_1_loss: 2.5457 - val_yolo_layer_2_loss: 2.3624 - val_yolo_layer_3_loss: 2.4950\n",
            "Epoch 19/50\n",
            "472/472 [==============================] - 420s 889ms/step - loss: 5.2288 - yolo_layer_1_loss: 0.8898 - yolo_layer_2_loss: 1.8050 - yolo_layer_3_loss: 2.5340 - val_loss: 7.1047 - val_yolo_layer_1_loss: 2.7732 - val_yolo_layer_2_loss: 2.0851 - val_yolo_layer_3_loss: 2.2464\n",
            "Epoch 20/50\n",
            "472/472 [==============================] - 425s 901ms/step - loss: 5.2718 - yolo_layer_1_loss: 0.9204 - yolo_layer_2_loss: 1.8213 - yolo_layer_3_loss: 2.5301 - val_loss: 6.8450 - val_yolo_layer_1_loss: 2.2791 - val_yolo_layer_2_loss: 2.5697 - val_yolo_layer_3_loss: 1.9963\n",
            "Epoch 21/50\n",
            "472/472 [==============================] - 439s 930ms/step - loss: 4.9391 - yolo_layer_1_loss: 0.7504 - yolo_layer_2_loss: 1.7000 - yolo_layer_3_loss: 2.4887 - val_loss: 8.1092 - val_yolo_layer_1_loss: 2.7962 - val_yolo_layer_2_loss: 3.0016 - val_yolo_layer_3_loss: 2.3114\n",
            "Epoch 22/50\n",
            "472/472 [==============================] - 439s 929ms/step - loss: 5.1708 - yolo_layer_1_loss: 0.7063 - yolo_layer_2_loss: 1.7114 - yolo_layer_3_loss: 2.7531 - val_loss: 7.2963 - val_yolo_layer_1_loss: 2.7178 - val_yolo_layer_2_loss: 2.5733 - val_yolo_layer_3_loss: 2.0053\n",
            "Epoch 23/50\n",
            "472/472 [==============================] - 440s 932ms/step - loss: 5.2673 - yolo_layer_1_loss: 0.8491 - yolo_layer_2_loss: 1.8112 - yolo_layer_3_loss: 2.6070 - val_loss: 7.6571 - val_yolo_layer_1_loss: 2.6935 - val_yolo_layer_2_loss: 2.5720 - val_yolo_layer_3_loss: 2.3916\n",
            "Epoch 24/50\n",
            "472/472 [==============================] - 443s 938ms/step - loss: 5.1614 - yolo_layer_1_loss: 0.8208 - yolo_layer_2_loss: 1.7574 - yolo_layer_3_loss: 2.5832 - val_loss: 8.0172 - val_yolo_layer_1_loss: 3.0199 - val_yolo_layer_2_loss: 2.7181 - val_yolo_layer_3_loss: 2.2792\n",
            "Epoch 25/50\n",
            "472/472 [==============================] - 447s 948ms/step - loss: 5.1713 - yolo_layer_1_loss: 0.8981 - yolo_layer_2_loss: 1.6855 - yolo_layer_3_loss: 2.5877 - val_loss: 7.3305 - val_yolo_layer_1_loss: 3.1133 - val_yolo_layer_2_loss: 2.4306 - val_yolo_layer_3_loss: 1.7866\n",
            "Epoch 26/50\n",
            "472/472 [==============================] - 442s 937ms/step - loss: 4.8357 - yolo_layer_1_loss: 0.8000 - yolo_layer_2_loss: 1.6727 - yolo_layer_3_loss: 2.3630 - val_loss: 7.9000 - val_yolo_layer_1_loss: 2.7703 - val_yolo_layer_2_loss: 2.5997 - val_yolo_layer_3_loss: 2.5299\n",
            "Epoch 27/50\n",
            "472/472 [==============================] - 446s 944ms/step - loss: 5.1501 - yolo_layer_1_loss: 0.8446 - yolo_layer_2_loss: 1.7111 - yolo_layer_3_loss: 2.5945 - val_loss: 7.5090 - val_yolo_layer_1_loss: 3.1173 - val_yolo_layer_2_loss: 2.4970 - val_yolo_layer_3_loss: 1.8947\n",
            "Epoch 28/50\n",
            "472/472 [==============================] - 445s 943ms/step - loss: 5.2456 - yolo_layer_1_loss: 0.7468 - yolo_layer_2_loss: 1.8775 - yolo_layer_3_loss: 2.6212 - val_loss: 7.2499 - val_yolo_layer_1_loss: 2.3243 - val_yolo_layer_2_loss: 2.4974 - val_yolo_layer_3_loss: 2.4283\n",
            "Epoch 29/50\n",
            "472/472 [==============================] - 442s 937ms/step - loss: 4.8942 - yolo_layer_1_loss: 0.8701 - yolo_layer_2_loss: 1.6033 - yolo_layer_3_loss: 2.4208 - val_loss: 7.1065 - val_yolo_layer_1_loss: 2.3614 - val_yolo_layer_2_loss: 2.3653 - val_yolo_layer_3_loss: 2.3798\n",
            "Epoch 30/50\n",
            "472/472 [==============================] - 443s 938ms/step - loss: 4.9698 - yolo_layer_1_loss: 0.7678 - yolo_layer_2_loss: 1.7537 - yolo_layer_3_loss: 2.4483 - val_loss: 7.0937 - val_yolo_layer_1_loss: 3.1411 - val_yolo_layer_2_loss: 1.8593 - val_yolo_layer_3_loss: 2.0933\n",
            "Epoch 31/50\n",
            "472/472 [==============================] - 444s 941ms/step - loss: 4.9747 - yolo_layer_1_loss: 0.8146 - yolo_layer_2_loss: 1.6855 - yolo_layer_3_loss: 2.4746 - val_loss: 7.8362 - val_yolo_layer_1_loss: 2.5963 - val_yolo_layer_2_loss: 2.5064 - val_yolo_layer_3_loss: 2.7335\n",
            "Epoch 32/50\n",
            "472/472 [==============================] - 448s 948ms/step - loss: 5.0816 - yolo_layer_1_loss: 0.8381 - yolo_layer_2_loss: 1.7058 - yolo_layer_3_loss: 2.5377 - val_loss: 7.4473 - val_yolo_layer_1_loss: 2.4145 - val_yolo_layer_2_loss: 2.5806 - val_yolo_layer_3_loss: 2.4522\n",
            "Epoch 33/50\n",
            "472/472 [==============================] - 449s 952ms/step - loss: 5.0998 - yolo_layer_1_loss: 0.7694 - yolo_layer_2_loss: 1.7469 - yolo_layer_3_loss: 2.5835 - val_loss: 7.3785 - val_yolo_layer_1_loss: 2.6140 - val_yolo_layer_2_loss: 2.0586 - val_yolo_layer_3_loss: 2.7059\n",
            "Epoch 34/50\n",
            "472/472 [==============================] - 447s 947ms/step - loss: 5.1691 - yolo_layer_1_loss: 0.8038 - yolo_layer_2_loss: 1.7740 - yolo_layer_3_loss: 2.5913 - val_loss: 7.8091 - val_yolo_layer_1_loss: 3.7061 - val_yolo_layer_2_loss: 2.1316 - val_yolo_layer_3_loss: 1.9714\n",
            "Epoch 35/50\n",
            "472/472 [==============================] - 448s 948ms/step - loss: 5.0172 - yolo_layer_1_loss: 0.8969 - yolo_layer_2_loss: 1.6635 - yolo_layer_3_loss: 2.4567 - val_loss: 7.7630 - val_yolo_layer_1_loss: 3.0655 - val_yolo_layer_2_loss: 2.4880 - val_yolo_layer_3_loss: 2.2096\n",
            "Epoch 36/50\n",
            "472/472 [==============================] - 438s 928ms/step - loss: 4.9860 - yolo_layer_1_loss: 0.8111 - yolo_layer_2_loss: 1.7699 - yolo_layer_3_loss: 2.4051 - val_loss: 7.3560 - val_yolo_layer_1_loss: 2.9920 - val_yolo_layer_2_loss: 2.3650 - val_yolo_layer_3_loss: 1.9990\n",
            "Epoch 37/50\n",
            "472/472 [==============================] - 442s 936ms/step - loss: 5.0983 - yolo_layer_1_loss: 0.8467 - yolo_layer_2_loss: 1.7277 - yolo_layer_3_loss: 2.5240 - val_loss: 7.0880 - val_yolo_layer_1_loss: 2.6551 - val_yolo_layer_2_loss: 2.2802 - val_yolo_layer_3_loss: 2.1527\n",
            "Epoch 38/50\n",
            "472/472 [==============================] - 445s 942ms/step - loss: 5.0544 - yolo_layer_1_loss: 0.8585 - yolo_layer_2_loss: 1.7068 - yolo_layer_3_loss: 2.4890 - val_loss: 7.8401 - val_yolo_layer_1_loss: 2.3721 - val_yolo_layer_2_loss: 2.8106 - val_yolo_layer_3_loss: 2.6574\n",
            "Epoch 39/50\n",
            "472/472 [==============================] - 444s 941ms/step - loss: 4.9063 - yolo_layer_1_loss: 0.7233 - yolo_layer_2_loss: 1.6934 - yolo_layer_3_loss: 2.4895 - val_loss: 7.4065 - val_yolo_layer_1_loss: 2.8825 - val_yolo_layer_2_loss: 2.0697 - val_yolo_layer_3_loss: 2.4542\n",
            "Epoch 40/50\n",
            "472/472 [==============================] - 446s 945ms/step - loss: 4.9679 - yolo_layer_1_loss: 0.8242 - yolo_layer_2_loss: 1.7834 - yolo_layer_3_loss: 2.3603 - val_loss: 7.2761 - val_yolo_layer_1_loss: 3.2242 - val_yolo_layer_2_loss: 1.9354 - val_yolo_layer_3_loss: 2.1165\n",
            "Epoch 41/50\n",
            "472/472 [==============================] - 441s 935ms/step - loss: 5.1390 - yolo_layer_1_loss: 0.7856 - yolo_layer_2_loss: 1.8406 - yolo_layer_3_loss: 2.5128 - val_loss: 7.5435 - val_yolo_layer_1_loss: 2.7948 - val_yolo_layer_2_loss: 2.5438 - val_yolo_layer_3_loss: 2.2049\n",
            "Epoch 42/50\n",
            "472/472 [==============================] - 440s 932ms/step - loss: 4.9527 - yolo_layer_1_loss: 0.7323 - yolo_layer_2_loss: 1.6960 - yolo_layer_3_loss: 2.5245 - val_loss: 7.9071 - val_yolo_layer_1_loss: 2.4818 - val_yolo_layer_2_loss: 2.2569 - val_yolo_layer_3_loss: 3.1684\n",
            "Epoch 43/50\n",
            "472/472 [==============================] - 454s 963ms/step - loss: 4.9429 - yolo_layer_1_loss: 0.7567 - yolo_layer_2_loss: 1.6944 - yolo_layer_3_loss: 2.4918 - val_loss: 7.4562 - val_yolo_layer_1_loss: 3.2493 - val_yolo_layer_2_loss: 1.9577 - val_yolo_layer_3_loss: 2.2492\n",
            "Epoch 44/50\n",
            "472/472 [==============================] - 441s 934ms/step - loss: 5.1614 - yolo_layer_1_loss: 0.9097 - yolo_layer_2_loss: 1.8641 - yolo_layer_3_loss: 2.3876 - val_loss: 7.0508 - val_yolo_layer_1_loss: 2.6867 - val_yolo_layer_2_loss: 2.0452 - val_yolo_layer_3_loss: 2.3188\n",
            "Epoch 45/50\n",
            "472/472 [==============================] - 435s 922ms/step - loss: 5.2621 - yolo_layer_1_loss: 0.8359 - yolo_layer_2_loss: 1.8141 - yolo_layer_3_loss: 2.6120 - val_loss: 6.9053 - val_yolo_layer_1_loss: 2.9048 - val_yolo_layer_2_loss: 1.7824 - val_yolo_layer_3_loss: 2.2182\n",
            "Epoch 46/50\n",
            "472/472 [==============================] - 432s 916ms/step - loss: 4.8745 - yolo_layer_1_loss: 0.7982 - yolo_layer_2_loss: 1.5852 - yolo_layer_3_loss: 2.4911 - val_loss: 7.5340 - val_yolo_layer_1_loss: 3.0119 - val_yolo_layer_2_loss: 1.9722 - val_yolo_layer_3_loss: 2.5498\n",
            "Epoch 47/50\n",
            "236/472 [==============>...............] - ETA: 3:22 - loss: 5.1313 - yolo_layer_1_loss: 0.8327 - yolo_layer_2_loss: 1.7394 - yolo_layer_3_loss: 2.5592"
          ],
          "name": "stdout"
        }
      ]
    },
    {
      "cell_type": "code",
      "metadata": {
        "id": "FtJFATmqCHBI",
        "colab_type": "code",
        "outputId": "3bd153b3-e943-4c4c-b728-6106afdccfe3",
        "colab": {
          "base_uri": "https://localhost:8080/",
          "height": 1000
        }
      },
      "source": [
        "from imageai.Detection.Custom import DetectionModelTrainer\n",
        "trainer = DetectionModelTrainer()\n",
        "trainer.setModelTypeAsYOLOv3() \n",
        "trainer.setDataDirectory(data_directory='drive/My Drive/Datasets/signals') \n",
        "trainer.setTrainConfig(object_names_array=[\"NO ENTRY\",\"ONE-WAY\",\"PROHIBITED BOTH SIDES\",\"RIGHT SIDE PROHIBITED\",\"LEFT SIDE PROHIBITED\",\"OVERTAKE PROHIBITED\",\"NO PARKING\",\"NO STOPPING\",\"AHEAD ONLY\",\"AHEAD OR RIGHT\",\"AHEAD OR LEFT\",\"SCHOOL AHED\",\"PARKING\",\"HOSPITAL\",\"RESTRICTIONS ENDS\",\"MEN AT WORK\",\"Z crossing\",\"SOUND HORN\",\"KEEP LEFT SIDE\",\"TURN LEFT ONLY\",\"KEEP RIGHT SIDE\",\"TURN RIGHT ONLY\",\"BUMP\",\"VEHICALS PROHIBITED\",\"STOP\",\"GIVE WAY\",\"U-TURN PROHIBITED\"], batch_size=4, num_experiments=50, train_from_pretrained_model=\"drive/My Drive/Datasets/signals/models/yolo64.h5\") \n",
        "trainer.trainModel()"
      ],
      "execution_count": 0,
      "outputs": [
        {
          "output_type": "stream",
          "text": [
            "Using TensorFlow backend.\n",
            "/usr/local/lib/python3.6/dist-packages/tensorflow/python/framework/dtypes.py:526: FutureWarning: Passing (type, 1) or '1type' as a synonym of type is deprecated; in a future version of numpy, it will be understood as (type, (1,)) / '(1,)type'.\n",
            "  _np_qint8 = np.dtype([(\"qint8\", np.int8, 1)])\n",
            "/usr/local/lib/python3.6/dist-packages/tensorflow/python/framework/dtypes.py:527: FutureWarning: Passing (type, 1) or '1type' as a synonym of type is deprecated; in a future version of numpy, it will be understood as (type, (1,)) / '(1,)type'.\n",
            "  _np_quint8 = np.dtype([(\"quint8\", np.uint8, 1)])\n",
            "/usr/local/lib/python3.6/dist-packages/tensorflow/python/framework/dtypes.py:528: FutureWarning: Passing (type, 1) or '1type' as a synonym of type is deprecated; in a future version of numpy, it will be understood as (type, (1,)) / '(1,)type'.\n",
            "  _np_qint16 = np.dtype([(\"qint16\", np.int16, 1)])\n",
            "/usr/local/lib/python3.6/dist-packages/tensorflow/python/framework/dtypes.py:529: FutureWarning: Passing (type, 1) or '1type' as a synonym of type is deprecated; in a future version of numpy, it will be understood as (type, (1,)) / '(1,)type'.\n",
            "  _np_quint16 = np.dtype([(\"quint16\", np.uint16, 1)])\n",
            "/usr/local/lib/python3.6/dist-packages/tensorflow/python/framework/dtypes.py:530: FutureWarning: Passing (type, 1) or '1type' as a synonym of type is deprecated; in a future version of numpy, it will be understood as (type, (1,)) / '(1,)type'.\n",
            "  _np_qint32 = np.dtype([(\"qint32\", np.int32, 1)])\n",
            "/usr/local/lib/python3.6/dist-packages/tensorflow/python/framework/dtypes.py:535: FutureWarning: Passing (type, 1) or '1type' as a synonym of type is deprecated; in a future version of numpy, it will be understood as (type, (1,)) / '(1,)type'.\n",
            "  np_resource = np.dtype([(\"resource\", np.ubyte, 1)])\n"
          ],
          "name": "stderr"
        },
        {
          "output_type": "display_data",
          "data": {
            "text/html": [
              "<p style=\"color: red;\">\n",
              "The default version of TensorFlow in Colab will soon switch to TensorFlow 2.x.<br>\n",
              "We recommend you <a href=\"https://www.tensorflow.org/guide/migrate\" target=\"_blank\">upgrade</a> now \n",
              "or ensure your notebook will continue to use TensorFlow 1.x via the <code>%tensorflow_version 1.x</code> magic:\n",
              "<a href=\"https://colab.research.google.com/notebooks/tensorflow_version.ipynb\" target=\"_blank\">more info</a>.</p>\n"
            ],
            "text/plain": [
              "<IPython.core.display.HTML object>"
            ]
          },
          "metadata": {
            "tags": []
          }
        },
        {
          "output_type": "stream",
          "text": [
            "Generating anchor boxes for training images and annotation...\n",
            "Average IOU for 9 anchors: 0.78\n",
            "Anchor Boxes generated.\n",
            "Detection configuration saved in  drive/My Drive/Datasets/signals/json/detection_config.json\n",
            "Training on: \t['AHEAD ONLY', 'AHEAD OR LEFT', 'AHEAD OR RIGHT', 'BUMP', 'GIVE WAY', 'HOSPITAL', 'KEEP LEFT SIDE', 'KEEP RIGHT SIDE', 'LEFT SIDE PROHIBITED', 'MEN AT WORK', 'NO ENTRY', 'NO PARKING', 'NO STOPPING', 'ONE-WAY', 'OVERTAKE PROHIBITED', 'PARKING', 'PROHIBITED BOTH SIDES', 'RESTRICTIONS ENDS', 'RIGHT SIDE PROHIBITED', 'SCHOOL AHED', 'SOUND HORN', 'STOP', 'TURN LEFT ONLY', 'TURN RIGHT ONLY', 'U-TURN PROHIBITED', 'VEHICALS PROHIBITED', 'Z crossing']\n",
            "Training with Batch Size:  4\n",
            "Number of Experiments:  50\n",
            "WARNING:tensorflow:From /usr/local/lib/python3.6/dist-packages/tensorflow/python/framework/op_def_library.py:263: colocate_with (from tensorflow.python.framework.ops) is deprecated and will be removed in a future version.\n",
            "Instructions for updating:\n",
            "Colocations handled automatically by placer.\n",
            "WARNING:tensorflow:From /usr/local/lib/python3.6/dist-packages/imageai/Detection/Custom/yolo.py:24: to_float (from tensorflow.python.ops.math_ops) is deprecated and will be removed in a future version.\n",
            "Instructions for updating:\n",
            "Use tf.cast instead.\n",
            "Training with transfer learning from pretrained Model\n"
          ],
          "name": "stdout"
        },
        {
          "output_type": "stream",
          "text": [
            "/usr/local/lib/python3.6/dist-packages/keras/callbacks.py:1335: UserWarning: `epsilon` argument is deprecated and will be removed, use `min_delta` instead.\n",
            "  warnings.warn('`epsilon` argument is deprecated and '\n"
          ],
          "name": "stderr"
        },
        {
          "output_type": "stream",
          "text": [
            "WARNING:tensorflow:From /usr/local/lib/python3.6/dist-packages/tensorflow/python/ops/math_ops.py:3066: to_int32 (from tensorflow.python.ops.math_ops) is deprecated and will be removed in a future version.\n",
            "Instructions for updating:\n",
            "Use tf.cast instead.\n",
            "Epoch 1/50\n",
            "472/472 [==============================] - 385s 816ms/step - loss: 9.2621 - yolo_layer_1_loss: 1.4213 - yolo_layer_2_loss: 3.4864 - yolo_layer_3_loss: 4.3544 - val_loss: 9.7207 - val_yolo_layer_1_loss: 3.3345 - val_yolo_layer_2_loss: 3.4857 - val_yolo_layer_3_loss: 2.9005\n",
            "Epoch 2/50\n",
            "472/472 [==============================] - 353s 748ms/step - loss: 8.3996 - yolo_layer_1_loss: 1.5486 - yolo_layer_2_loss: 2.8638 - yolo_layer_3_loss: 3.9872 - val_loss: 8.9963 - val_yolo_layer_1_loss: 3.3680 - val_yolo_layer_2_loss: 2.6549 - val_yolo_layer_3_loss: 2.9733\n",
            "Epoch 3/50\n",
            "472/472 [==============================] - 352s 747ms/step - loss: 8.3711 - yolo_layer_1_loss: 1.5383 - yolo_layer_2_loss: 2.8016 - yolo_layer_3_loss: 4.0312 - val_loss: 9.6318 - val_yolo_layer_1_loss: 3.7579 - val_yolo_layer_2_loss: 2.7798 - val_yolo_layer_3_loss: 3.0940\n",
            "Epoch 4/50\n",
            "472/472 [==============================] - 356s 754ms/step - loss: 8.1673 - yolo_layer_1_loss: 1.5061 - yolo_layer_2_loss: 2.8343 - yolo_layer_3_loss: 3.8268 - val_loss: 9.6690 - val_yolo_layer_1_loss: 3.8799 - val_yolo_layer_2_loss: 2.8565 - val_yolo_layer_3_loss: 2.9326\n",
            "Epoch 5/50\n",
            "472/472 [==============================] - 360s 762ms/step - loss: 8.1261 - yolo_layer_1_loss: 1.5723 - yolo_layer_2_loss: 2.8089 - yolo_layer_3_loss: 3.7448 - val_loss: 8.6062 - val_yolo_layer_1_loss: 3.7924 - val_yolo_layer_2_loss: 2.3769 - val_yolo_layer_3_loss: 2.4369\n",
            "Epoch 6/50\n",
            "472/472 [==============================] - 359s 760ms/step - loss: 7.8422 - yolo_layer_1_loss: 1.5096 - yolo_layer_2_loss: 2.6143 - yolo_layer_3_loss: 3.7183 - val_loss: 9.5537 - val_yolo_layer_1_loss: 3.6449 - val_yolo_layer_2_loss: 2.4473 - val_yolo_layer_3_loss: 3.4614\n",
            "Epoch 7/50\n",
            "472/472 [==============================] - 357s 757ms/step - loss: 7.8562 - yolo_layer_1_loss: 1.6233 - yolo_layer_2_loss: 2.4844 - yolo_layer_3_loss: 3.7485 - val_loss: 10.1150 - val_yolo_layer_1_loss: 4.3077 - val_yolo_layer_2_loss: 2.7578 - val_yolo_layer_3_loss: 3.0495\n",
            "Epoch 8/50\n",
            "472/472 [==============================] - 355s 751ms/step - loss: 7.8172 - yolo_layer_1_loss: 1.4655 - yolo_layer_2_loss: 2.4377 - yolo_layer_3_loss: 3.9140 - val_loss: 9.3120 - val_yolo_layer_1_loss: 3.2003 - val_yolo_layer_2_loss: 3.1972 - val_yolo_layer_3_loss: 2.9145\n",
            "Epoch 9/50\n",
            "472/472 [==============================] - 352s 746ms/step - loss: 7.6687 - yolo_layer_1_loss: 1.5238 - yolo_layer_2_loss: 2.4565 - yolo_layer_3_loss: 3.6885 - val_loss: 8.9889 - val_yolo_layer_1_loss: 3.6343 - val_yolo_layer_2_loss: 2.5676 - val_yolo_layer_3_loss: 2.7871\n",
            "Epoch 10/50\n",
            "472/472 [==============================] - 351s 744ms/step - loss: 7.5106 - yolo_layer_1_loss: 1.3821 - yolo_layer_2_loss: 2.4640 - yolo_layer_3_loss: 3.6645 - val_loss: 8.8083 - val_yolo_layer_1_loss: 3.4350 - val_yolo_layer_2_loss: 3.0475 - val_yolo_layer_3_loss: 2.3259\n",
            "Epoch 11/50\n",
            "472/472 [==============================] - 354s 751ms/step - loss: 7.5657 - yolo_layer_1_loss: 1.3755 - yolo_layer_2_loss: 2.3904 - yolo_layer_3_loss: 3.7998 - val_loss: 8.6338 - val_yolo_layer_1_loss: 3.1826 - val_yolo_layer_2_loss: 2.5283 - val_yolo_layer_3_loss: 2.9229\n",
            "Epoch 12/50\n",
            "472/472 [==============================] - 363s 769ms/step - loss: 7.3901 - yolo_layer_1_loss: 1.5706 - yolo_layer_2_loss: 2.3493 - yolo_layer_3_loss: 3.4702 - val_loss: 9.2621 - val_yolo_layer_1_loss: 3.7493 - val_yolo_layer_2_loss: 3.2767 - val_yolo_layer_3_loss: 2.2361\n",
            "Epoch 13/50\n",
            "472/472 [==============================] - 351s 743ms/step - loss: 7.5555 - yolo_layer_1_loss: 1.6043 - yolo_layer_2_loss: 2.4192 - yolo_layer_3_loss: 3.5320 - val_loss: 7.4414 - val_yolo_layer_1_loss: 3.0180 - val_yolo_layer_2_loss: 2.1529 - val_yolo_layer_3_loss: 2.2705\n",
            "Epoch 14/50\n",
            "472/472 [==============================] - 349s 739ms/step - loss: 7.2622 - yolo_layer_1_loss: 1.3982 - yolo_layer_2_loss: 2.3336 - yolo_layer_3_loss: 3.5305 - val_loss: 8.0644 - val_yolo_layer_1_loss: 3.0248 - val_yolo_layer_2_loss: 2.5041 - val_yolo_layer_3_loss: 2.5355\n",
            "Epoch 15/50\n",
            "472/472 [==============================] - 350s 742ms/step - loss: 7.3349 - yolo_layer_1_loss: 1.4805 - yolo_layer_2_loss: 2.3571 - yolo_layer_3_loss: 3.4974 - val_loss: 8.3380 - val_yolo_layer_1_loss: 3.1578 - val_yolo_layer_2_loss: 2.4071 - val_yolo_layer_3_loss: 2.7730\n",
            "Epoch 16/50\n",
            "472/472 [==============================] - 349s 739ms/step - loss: 7.1502 - yolo_layer_1_loss: 1.4058 - yolo_layer_2_loss: 2.3480 - yolo_layer_3_loss: 3.3964 - val_loss: 8.2267 - val_yolo_layer_1_loss: 2.8487 - val_yolo_layer_2_loss: 2.8009 - val_yolo_layer_3_loss: 2.5771\n",
            "Epoch 17/50\n",
            "472/472 [==============================] - 350s 741ms/step - loss: 7.1344 - yolo_layer_1_loss: 1.3760 - yolo_layer_2_loss: 2.3067 - yolo_layer_3_loss: 3.4518 - val_loss: 9.9120 - val_yolo_layer_1_loss: 3.9446 - val_yolo_layer_2_loss: 2.9675 - val_yolo_layer_3_loss: 2.9999\n",
            "Epoch 18/50\n",
            "472/472 [==============================] - 350s 741ms/step - loss: 7.1738 - yolo_layer_1_loss: 1.3595 - yolo_layer_2_loss: 2.3523 - yolo_layer_3_loss: 3.4620 - val_loss: 8.7864 - val_yolo_layer_1_loss: 4.1318 - val_yolo_layer_2_loss: 2.0506 - val_yolo_layer_3_loss: 2.6040\n",
            "Epoch 19/50\n",
            "472/472 [==============================] - 350s 741ms/step - loss: 6.9357 - yolo_layer_1_loss: 1.3820 - yolo_layer_2_loss: 2.2043 - yolo_layer_3_loss: 3.3494 - val_loss: 8.9513 - val_yolo_layer_1_loss: 3.7065 - val_yolo_layer_2_loss: 2.6903 - val_yolo_layer_3_loss: 2.5546\n",
            "Epoch 20/50\n",
            "472/472 [==============================] - 351s 743ms/step - loss: 7.2063 - yolo_layer_1_loss: 1.4552 - yolo_layer_2_loss: 2.3564 - yolo_layer_3_loss: 3.3947 - val_loss: 9.5123 - val_yolo_layer_1_loss: 4.5766 - val_yolo_layer_2_loss: 3.0768 - val_yolo_layer_3_loss: 1.8590\n",
            "Epoch 21/50\n",
            "472/472 [==============================] - 348s 738ms/step - loss: 6.9319 - yolo_layer_1_loss: 1.2634 - yolo_layer_2_loss: 2.3517 - yolo_layer_3_loss: 3.3168 - val_loss: 7.9787 - val_yolo_layer_1_loss: 3.4314 - val_yolo_layer_2_loss: 2.6053 - val_yolo_layer_3_loss: 1.9420\n",
            "Epoch 22/50\n",
            "472/472 [==============================] - 347s 736ms/step - loss: 6.0708 - yolo_layer_1_loss: 1.0796 - yolo_layer_2_loss: 2.0394 - yolo_layer_3_loss: 2.9518 - val_loss: 7.6321 - val_yolo_layer_1_loss: 2.9610 - val_yolo_layer_2_loss: 2.2591 - val_yolo_layer_3_loss: 2.4120\n",
            "Epoch 23/50\n",
            "472/472 [==============================] - 349s 738ms/step - loss: 5.7378 - yolo_layer_1_loss: 1.1028 - yolo_layer_2_loss: 1.8630 - yolo_layer_3_loss: 2.7721 - val_loss: 7.5411 - val_yolo_layer_1_loss: 3.0949 - val_yolo_layer_2_loss: 2.4031 - val_yolo_layer_3_loss: 2.0431\n",
            "Epoch 24/50\n",
            "472/472 [==============================] - 350s 742ms/step - loss: 5.9357 - yolo_layer_1_loss: 1.2041 - yolo_layer_2_loss: 1.8535 - yolo_layer_3_loss: 2.8781 - val_loss: 7.5283 - val_yolo_layer_1_loss: 3.5321 - val_yolo_layer_2_loss: 2.2108 - val_yolo_layer_3_loss: 1.7855\n",
            "Epoch 25/50\n",
            "472/472 [==============================] - 347s 736ms/step - loss: 5.6706 - yolo_layer_1_loss: 1.0746 - yolo_layer_2_loss: 1.8667 - yolo_layer_3_loss: 2.7294 - val_loss: 7.0168 - val_yolo_layer_1_loss: 3.0784 - val_yolo_layer_2_loss: 2.1388 - val_yolo_layer_3_loss: 1.7997\n",
            "Epoch 26/50\n",
            "472/472 [==============================] - 350s 742ms/step - loss: 5.6224 - yolo_layer_1_loss: 1.1437 - yolo_layer_2_loss: 1.7538 - yolo_layer_3_loss: 2.7249 - val_loss: 7.2541 - val_yolo_layer_1_loss: 2.7832 - val_yolo_layer_2_loss: 2.2389 - val_yolo_layer_3_loss: 2.2320\n",
            "Epoch 27/50\n",
            "472/472 [==============================] - 352s 746ms/step - loss: 5.4387 - yolo_layer_1_loss: 1.0421 - yolo_layer_2_loss: 1.7287 - yolo_layer_3_loss: 2.6679 - val_loss: 7.0201 - val_yolo_layer_1_loss: 3.6700 - val_yolo_layer_2_loss: 1.8489 - val_yolo_layer_3_loss: 1.5012\n",
            "Epoch 28/50\n",
            "472/472 [==============================] - 361s 765ms/step - loss: 5.5883 - yolo_layer_1_loss: 1.2959 - yolo_layer_2_loss: 1.7935 - yolo_layer_3_loss: 2.4989 - val_loss: 7.3951 - val_yolo_layer_1_loss: 3.6259 - val_yolo_layer_2_loss: 2.3050 - val_yolo_layer_3_loss: 1.4642\n",
            "Epoch 29/50\n",
            "472/472 [==============================] - 360s 762ms/step - loss: 5.4354 - yolo_layer_1_loss: 1.0327 - yolo_layer_2_loss: 1.7245 - yolo_layer_3_loss: 2.6781 - val_loss: 6.6043 - val_yolo_layer_1_loss: 2.9850 - val_yolo_layer_2_loss: 2.0266 - val_yolo_layer_3_loss: 1.5927\n",
            "Epoch 30/50\n",
            "472/472 [==============================] - 359s 760ms/step - loss: 5.7093 - yolo_layer_1_loss: 1.0457 - yolo_layer_2_loss: 1.8482 - yolo_layer_3_loss: 2.8153 - val_loss: 6.4310 - val_yolo_layer_1_loss: 2.8665 - val_yolo_layer_2_loss: 2.1474 - val_yolo_layer_3_loss: 1.4171\n",
            "Epoch 31/50\n",
            "472/472 [==============================] - 365s 773ms/step - loss: 5.5107 - yolo_layer_1_loss: 1.1196 - yolo_layer_2_loss: 1.7771 - yolo_layer_3_loss: 2.6141 - val_loss: 6.7417 - val_yolo_layer_1_loss: 3.2888 - val_yolo_layer_2_loss: 1.9295 - val_yolo_layer_3_loss: 1.5234\n",
            "Epoch 32/50\n",
            "472/472 [==============================] - 358s 759ms/step - loss: 5.2471 - yolo_layer_1_loss: 0.9427 - yolo_layer_2_loss: 1.6685 - yolo_layer_3_loss: 2.6360 - val_loss: 6.6666 - val_yolo_layer_1_loss: 3.2976 - val_yolo_layer_2_loss: 1.6942 - val_yolo_layer_3_loss: 1.6748\n",
            "Epoch 33/50\n",
            "472/472 [==============================] - 361s 766ms/step - loss: 5.5582 - yolo_layer_1_loss: 1.1312 - yolo_layer_2_loss: 1.7250 - yolo_layer_3_loss: 2.7021 - val_loss: 6.5549 - val_yolo_layer_1_loss: 3.2609 - val_yolo_layer_2_loss: 1.9489 - val_yolo_layer_3_loss: 1.3451\n",
            "Epoch 34/50\n",
            "472/472 [==============================] - 358s 759ms/step - loss: 5.3872 - yolo_layer_1_loss: 1.0025 - yolo_layer_2_loss: 1.8193 - yolo_layer_3_loss: 2.5654 - val_loss: 7.4724 - val_yolo_layer_1_loss: 3.1180 - val_yolo_layer_2_loss: 2.1728 - val_yolo_layer_3_loss: 2.1815\n",
            "Epoch 35/50\n",
            "472/472 [==============================] - 357s 757ms/step - loss: 5.2784 - yolo_layer_1_loss: 0.9839 - yolo_layer_2_loss: 1.6895 - yolo_layer_3_loss: 2.6050 - val_loss: 7.5725 - val_yolo_layer_1_loss: 3.4946 - val_yolo_layer_2_loss: 2.2165 - val_yolo_layer_3_loss: 1.8613\n",
            "Epoch 36/50\n",
            "472/472 [==============================] - 365s 773ms/step - loss: 5.4949 - yolo_layer_1_loss: 1.1064 - yolo_layer_2_loss: 1.8185 - yolo_layer_3_loss: 2.5700 - val_loss: 7.0100 - val_yolo_layer_1_loss: 3.0437 - val_yolo_layer_2_loss: 2.0655 - val_yolo_layer_3_loss: 1.9008\n",
            "Epoch 37/50\n",
            "472/472 [==============================] - 362s 768ms/step - loss: 5.3683 - yolo_layer_1_loss: 1.0358 - yolo_layer_2_loss: 1.6777 - yolo_layer_3_loss: 2.6547 - val_loss: 6.9518 - val_yolo_layer_1_loss: 3.3191 - val_yolo_layer_2_loss: 1.8200 - val_yolo_layer_3_loss: 1.8127\n",
            "Epoch 38/50\n",
            "472/472 [==============================] - 363s 769ms/step - loss: 5.3712 - yolo_layer_1_loss: 1.0771 - yolo_layer_2_loss: 1.6802 - yolo_layer_3_loss: 2.6139 - val_loss: 7.2627 - val_yolo_layer_1_loss: 3.2191 - val_yolo_layer_2_loss: 2.5669 - val_yolo_layer_3_loss: 1.4767\n",
            "Epoch 39/50\n",
            "472/472 [==============================] - 359s 761ms/step - loss: 5.4657 - yolo_layer_1_loss: 1.0276 - yolo_layer_2_loss: 1.8024 - yolo_layer_3_loss: 2.6357 - val_loss: 7.1228 - val_yolo_layer_1_loss: 3.5714 - val_yolo_layer_2_loss: 2.3523 - val_yolo_layer_3_loss: 1.1991\n",
            "Epoch 40/50\n",
            "472/472 [==============================] - 362s 766ms/step - loss: 5.5880 - yolo_layer_1_loss: 1.0272 - yolo_layer_2_loss: 1.7425 - yolo_layer_3_loss: 2.8183 - val_loss: 7.5424 - val_yolo_layer_1_loss: 3.2007 - val_yolo_layer_2_loss: 2.5870 - val_yolo_layer_3_loss: 1.7547\n",
            "Epoch 41/50\n",
            "472/472 [==============================] - 360s 762ms/step - loss: 5.4591 - yolo_layer_1_loss: 0.9810 - yolo_layer_2_loss: 1.7742 - yolo_layer_3_loss: 2.7039 - val_loss: 7.4621 - val_yolo_layer_1_loss: 3.0841 - val_yolo_layer_2_loss: 2.4093 - val_yolo_layer_3_loss: 1.9687\n",
            "Epoch 42/50\n",
            "472/472 [==============================] - 361s 765ms/step - loss: 5.5019 - yolo_layer_1_loss: 1.0107 - yolo_layer_2_loss: 1.8204 - yolo_layer_3_loss: 2.6708 - val_loss: 6.9541 - val_yolo_layer_1_loss: 3.2401 - val_yolo_layer_2_loss: 2.1696 - val_yolo_layer_3_loss: 1.5444\n",
            "Epoch 43/50\n",
            "472/472 [==============================] - 360s 762ms/step - loss: 5.4727 - yolo_layer_1_loss: 0.9743 - yolo_layer_2_loss: 1.7244 - yolo_layer_3_loss: 2.7741 - val_loss: 7.0738 - val_yolo_layer_1_loss: 2.9533 - val_yolo_layer_2_loss: 2.4649 - val_yolo_layer_3_loss: 1.6556\n",
            "Epoch 44/50\n",
            "472/472 [==============================] - 360s 762ms/step - loss: 5.2003 - yolo_layer_1_loss: 1.0362 - yolo_layer_2_loss: 1.6349 - yolo_layer_3_loss: 2.5292 - val_loss: 6.6484 - val_yolo_layer_1_loss: 2.9001 - val_yolo_layer_2_loss: 1.8752 - val_yolo_layer_3_loss: 1.8731\n",
            "Epoch 45/50\n",
            "472/472 [==============================] - 355s 752ms/step - loss: 5.3709 - yolo_layer_1_loss: 0.9718 - yolo_layer_2_loss: 1.7187 - yolo_layer_3_loss: 2.6804 - val_loss: 6.8809 - val_yolo_layer_1_loss: 2.7314 - val_yolo_layer_2_loss: 2.2427 - val_yolo_layer_3_loss: 1.9069\n",
            "Epoch 46/50\n",
            "472/472 [==============================] - 361s 766ms/step - loss: 5.5269 - yolo_layer_1_loss: 1.1596 - yolo_layer_2_loss: 1.7671 - yolo_layer_3_loss: 2.6001 - val_loss: 7.4469 - val_yolo_layer_1_loss: 3.0563 - val_yolo_layer_2_loss: 2.5974 - val_yolo_layer_3_loss: 1.7933\n",
            "Epoch 47/50\n",
            "472/472 [==============================] - 363s 769ms/step - loss: 5.3630 - yolo_layer_1_loss: 1.0140 - yolo_layer_2_loss: 1.7844 - yolo_layer_3_loss: 2.5646 - val_loss: 7.3706 - val_yolo_layer_1_loss: 3.3625 - val_yolo_layer_2_loss: 2.2424 - val_yolo_layer_3_loss: 1.7657\n",
            "Epoch 48/50\n",
            "472/472 [==============================] - 360s 762ms/step - loss: 5.5632 - yolo_layer_1_loss: 0.9837 - yolo_layer_2_loss: 1.7400 - yolo_layer_3_loss: 2.8396 - val_loss: 7.1584 - val_yolo_layer_1_loss: 2.6880 - val_yolo_layer_2_loss: 2.3060 - val_yolo_layer_3_loss: 2.1644\n",
            "Epoch 49/50\n",
            "472/472 [==============================] - 363s 769ms/step - loss: 5.6749 - yolo_layer_1_loss: 1.0757 - yolo_layer_2_loss: 1.8157 - yolo_layer_3_loss: 2.7835 - val_loss: 6.5298 - val_yolo_layer_1_loss: 3.0803 - val_yolo_layer_2_loss: 1.8827 - val_yolo_layer_3_loss: 1.5668\n",
            "Epoch 50/50\n",
            "472/472 [==============================] - 362s 767ms/step - loss: 5.3590 - yolo_layer_1_loss: 1.0197 - yolo_layer_2_loss: 1.7715 - yolo_layer_3_loss: 2.5678 - val_loss: 6.9126 - val_yolo_layer_1_loss: 3.0836 - val_yolo_layer_2_loss: 2.3027 - val_yolo_layer_3_loss: 1.5263\n"
          ],
          "name": "stdout"
        }
      ]
    },
    {
      "cell_type": "code",
      "metadata": {
        "id": "YRBloy7K7mLT",
        "colab_type": "code",
        "outputId": "e3dce047-d80d-4b9f-998d-1d7ac8ea76b1",
        "colab": {
          "base_uri": "https://localhost:8080/",
          "height": 797
        }
      },
      "source": [
        "from imageai.Detection.Custom import DetectionModelTrainer\n",
        "trainer = DetectionModelTrainer()\n",
        "trainer.setModelTypeAsYOLOv3() \n",
        "trainer.setDataDirectory(data_directory='drive/My Drive/Datasets/signals') \n",
        "trainer.setTrainConfig(object_names_array=[\"NO ENTRY\",\"ONE-WAY\",\"PROHIBITED BOTH SIDES\",\"RIGHT SIDE PROHIBITED\",\"LEFT SIDE PROHIBITED\",\"OVERTAKE PROHIBITED\",\"NO PARKING\",\"NO STOPPING\",\"AHEAD ONLY\",\"AHEAD OR RIGHT\",\"AHEAD OR LEFT\",\"SCHOOL AHED\",\"PARKING\",\"HOSPITAL\",\"RESTRICTIONS ENDS\",\"MEN AT WORK\",\"Z crossing\",\"SOUND HORN\",\"KEEP LEFT SIDE\",\"TURN LEFT ONLY\",\"KEEP RIGHT SIDE\",\"TURN RIGHT ONLY\",\"BUMP\",\"VEHICALS PROHIBITED\",\"STOP\",\"GIVE WAY\",\"U-TURN PROHIBITED\"], batch_size=4, num_experiments=100, train_from_pretrained_model=\"drive/My Drive/Datasets/signals/models/yolo4.173.h5\") \n",
        "trainer.trainModel()"
      ],
      "execution_count": 0,
      "outputs": [
        {
          "output_type": "stream",
          "text": [
            "Using TensorFlow backend.\n",
            "/usr/local/lib/python3.6/dist-packages/tensorflow/python/framework/dtypes.py:526: FutureWarning: Passing (type, 1) or '1type' as a synonym of type is deprecated; in a future version of numpy, it will be understood as (type, (1,)) / '(1,)type'.\n",
            "  _np_qint8 = np.dtype([(\"qint8\", np.int8, 1)])\n",
            "/usr/local/lib/python3.6/dist-packages/tensorflow/python/framework/dtypes.py:527: FutureWarning: Passing (type, 1) or '1type' as a synonym of type is deprecated; in a future version of numpy, it will be understood as (type, (1,)) / '(1,)type'.\n",
            "  _np_quint8 = np.dtype([(\"quint8\", np.uint8, 1)])\n",
            "/usr/local/lib/python3.6/dist-packages/tensorflow/python/framework/dtypes.py:528: FutureWarning: Passing (type, 1) or '1type' as a synonym of type is deprecated; in a future version of numpy, it will be understood as (type, (1,)) / '(1,)type'.\n",
            "  _np_qint16 = np.dtype([(\"qint16\", np.int16, 1)])\n",
            "/usr/local/lib/python3.6/dist-packages/tensorflow/python/framework/dtypes.py:529: FutureWarning: Passing (type, 1) or '1type' as a synonym of type is deprecated; in a future version of numpy, it will be understood as (type, (1,)) / '(1,)type'.\n",
            "  _np_quint16 = np.dtype([(\"quint16\", np.uint16, 1)])\n",
            "/usr/local/lib/python3.6/dist-packages/tensorflow/python/framework/dtypes.py:530: FutureWarning: Passing (type, 1) or '1type' as a synonym of type is deprecated; in a future version of numpy, it will be understood as (type, (1,)) / '(1,)type'.\n",
            "  _np_qint32 = np.dtype([(\"qint32\", np.int32, 1)])\n",
            "/usr/local/lib/python3.6/dist-packages/tensorflow/python/framework/dtypes.py:535: FutureWarning: Passing (type, 1) or '1type' as a synonym of type is deprecated; in a future version of numpy, it will be understood as (type, (1,)) / '(1,)type'.\n",
            "  np_resource = np.dtype([(\"resource\", np.ubyte, 1)])\n"
          ],
          "name": "stderr"
        },
        {
          "output_type": "display_data",
          "data": {
            "text/html": [
              "<p style=\"color: red;\">\n",
              "The default version of TensorFlow in Colab will soon switch to TensorFlow 2.x.<br>\n",
              "We recommend you <a href=\"https://www.tensorflow.org/guide/migrate\" target=\"_blank\">upgrade</a> now \n",
              "or ensure your notebook will continue to use TensorFlow 1.x via the <code>%tensorflow_version 1.x</code> magic:\n",
              "<a href=\"https://colab.research.google.com/notebooks/tensorflow_version.ipynb\" target=\"_blank\">more info</a>.</p>\n"
            ],
            "text/plain": [
              "<IPython.core.display.HTML object>"
            ]
          },
          "metadata": {
            "tags": []
          }
        },
        {
          "output_type": "stream",
          "text": [
            "Generating anchor boxes for training images and annotation...\n",
            "Average IOU for 9 anchors: 0.78\n",
            "Anchor Boxes generated.\n",
            "Detection configuration saved in  drive/My Drive/Datasets/signals/json/detection_config.json\n",
            "Training on: \t['AHEAD ONLY', 'AHEAD OR LEFT', 'AHEAD OR RIGHT', 'BUMP', 'GIVE WAY', 'HOSPITAL', 'KEEP LEFT SIDE', 'KEEP RIGHT SIDE', 'LEFT SIDE PROHIBITED', 'MEN AT WORK', 'NO ENTRY', 'NO PARKING', 'NO STOPPING', 'ONE-WAY', 'OVERTAKE PROHIBITED', 'PARKING', 'PROHIBITED BOTH SIDES', 'RESTRICTIONS ENDS', 'RIGHT SIDE PROHIBITED', 'SCHOOL AHED', 'SOUND HORN', 'STOP', 'TURN LEFT ONLY', 'TURN RIGHT ONLY', 'U-TURN PROHIBITED', 'VEHICALS PROHIBITED', 'Z crossing']\n",
            "Training with Batch Size:  4\n",
            "Number of Experiments:  100\n",
            "WARNING:tensorflow:From /usr/local/lib/python3.6/dist-packages/tensorflow/python/framework/op_def_library.py:263: colocate_with (from tensorflow.python.framework.ops) is deprecated and will be removed in a future version.\n",
            "Instructions for updating:\n",
            "Colocations handled automatically by placer.\n",
            "WARNING:tensorflow:From /usr/local/lib/python3.6/dist-packages/imageai/Detection/Custom/yolo.py:24: to_float (from tensorflow.python.ops.math_ops) is deprecated and will be removed in a future version.\n",
            "Instructions for updating:\n",
            "Use tf.cast instead.\n",
            "Training with transfer learning from pretrained Model\n"
          ],
          "name": "stdout"
        },
        {
          "output_type": "stream",
          "text": [
            "/usr/local/lib/python3.6/dist-packages/keras/callbacks.py:1335: UserWarning: `epsilon` argument is deprecated and will be removed, use `min_delta` instead.\n",
            "  warnings.warn('`epsilon` argument is deprecated and '\n"
          ],
          "name": "stderr"
        },
        {
          "output_type": "stream",
          "text": [
            "WARNING:tensorflow:From /usr/local/lib/python3.6/dist-packages/tensorflow/python/ops/math_ops.py:3066: to_int32 (from tensorflow.python.ops.math_ops) is deprecated and will be removed in a future version.\n",
            "Instructions for updating:\n",
            "Use tf.cast instead.\n",
            "Epoch 1/100\n",
            "472/472 [==============================] - 387s 820ms/step - loss: 9.6243 - yolo_layer_1_loss: 3.0454 - yolo_layer_2_loss: 3.8442 - yolo_layer_3_loss: 2.7347 - val_loss: 10.1610 - val_yolo_layer_1_loss: 3.7969 - val_yolo_layer_2_loss: 4.2397 - val_yolo_layer_3_loss: 2.1245\n",
            "Epoch 2/100\n",
            "472/472 [==============================] - 359s 761ms/step - loss: 8.6609 - yolo_layer_1_loss: 2.9637 - yolo_layer_2_loss: 2.9649 - yolo_layer_3_loss: 2.7323 - val_loss: 9.8741 - val_yolo_layer_1_loss: 4.1311 - val_yolo_layer_2_loss: 4.0212 - val_yolo_layer_3_loss: 1.7217\n",
            "Epoch 3/100\n",
            "472/472 [==============================] - 361s 764ms/step - loss: 8.6693 - yolo_layer_1_loss: 3.0939 - yolo_layer_2_loss: 2.9176 - yolo_layer_3_loss: 2.6579 - val_loss: 10.9855 - val_yolo_layer_1_loss: 3.7451 - val_yolo_layer_2_loss: 4.6390 - val_yolo_layer_3_loss: 2.6014\n",
            "Epoch 4/100\n",
            "472/472 [==============================] - 359s 761ms/step - loss: 8.5421 - yolo_layer_1_loss: 2.9261 - yolo_layer_2_loss: 2.8905 - yolo_layer_3_loss: 2.7254 - val_loss: 10.8149 - val_yolo_layer_1_loss: 4.0921 - val_yolo_layer_2_loss: 4.4431 - val_yolo_layer_3_loss: 2.2797\n",
            "Epoch 5/100\n",
            "267/472 [===============>..............] - ETA: 2:28 - loss: 7.0525 - yolo_layer_1_loss: 2.0215 - yolo_layer_2_loss: 2.1752 - yolo_layer_3_loss: 2.8558"
          ],
          "name": "stdout"
        }
      ]
    }
  ]
}